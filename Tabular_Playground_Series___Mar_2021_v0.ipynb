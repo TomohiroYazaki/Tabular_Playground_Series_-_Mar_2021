{
  "nbformat": 4,
  "nbformat_minor": 0,
  "metadata": {
    "colab": {
      "name": "Tabular_Playground_Series_-_Mar_2021_v0",
      "provenance": [],
      "collapsed_sections": [],
      "machine_shape": "hm",
      "mount_file_id": "1oTr7KPBntZyQ9KWbiZOwIZ0pkI0cqJcT",
      "authorship_tag": "ABX9TyMahV1VLO7qYH8s235vGSMy",
      "include_colab_link": true
    },
    "kernelspec": {
      "display_name": "Python 3",
      "name": "python3"
    }
  },
  "cells": [
    {
      "cell_type": "markdown",
      "metadata": {
        "id": "view-in-github",
        "colab_type": "text"
      },
      "source": [
        "<a href=\"https://colab.research.google.com/github/TomohiroYazaki/Tabular_Playground_Series_-_Mar_2021/blob/main/Tabular_Playground_Series___Mar_2021_v0.ipynb\" target=\"_parent\"><img src=\"https://colab.research.google.com/assets/colab-badge.svg\" alt=\"Open In Colab\"/></a>"
      ]
    },
    {
      "cell_type": "code",
      "metadata": {
        "id": "QCJB6fJ5CwUL",
        "colab": {
          "base_uri": "https://localhost:8080/"
        },
        "outputId": "1644c46a-12c0-4465-af19-941618475bb4"
      },
      "source": [
        "!pip install --upgrade hyperopt"
      ],
      "execution_count": 153,
      "outputs": [
        {
          "output_type": "stream",
          "text": [
            "Requirement already up-to-date: hyperopt in /usr/local/lib/python3.7/dist-packages (0.2.5)\n",
            "Requirement already satisfied, skipping upgrade: future in /usr/local/lib/python3.7/dist-packages (from hyperopt) (0.16.0)\n",
            "Requirement already satisfied, skipping upgrade: scipy in /usr/local/lib/python3.7/dist-packages (from hyperopt) (1.4.1)\n",
            "Requirement already satisfied, skipping upgrade: tqdm in /usr/local/lib/python3.7/dist-packages (from hyperopt) (4.41.1)\n",
            "Requirement already satisfied, skipping upgrade: numpy in /usr/local/lib/python3.7/dist-packages (from hyperopt) (1.19.5)\n",
            "Requirement already satisfied, skipping upgrade: networkx>=2.2 in /usr/local/lib/python3.7/dist-packages (from hyperopt) (2.5)\n",
            "Requirement already satisfied, skipping upgrade: six in /usr/local/lib/python3.7/dist-packages (from hyperopt) (1.15.0)\n",
            "Requirement already satisfied, skipping upgrade: cloudpickle in /usr/local/lib/python3.7/dist-packages (from hyperopt) (1.3.0)\n",
            "Requirement already satisfied, skipping upgrade: decorator>=4.3.0 in /usr/local/lib/python3.7/dist-packages (from networkx>=2.2->hyperopt) (4.4.2)\n"
          ],
          "name": "stdout"
        }
      ]
    },
    {
      "cell_type": "code",
      "metadata": {
        "id": "kP8Htkhtzi6b"
      },
      "source": [
        "#!pip install --upgrade pandas"
      ],
      "execution_count": 154,
      "outputs": []
    },
    {
      "cell_type": "code",
      "metadata": {
        "id": "g6hKguhK8U6K",
        "colab": {
          "base_uri": "https://localhost:8080/"
        },
        "outputId": "4a02bbf3-db43-4e76-d83b-4fbe570b6da7"
      },
      "source": [
        "!pip install pytorch-tabnet"
      ],
      "execution_count": 155,
      "outputs": [
        {
          "output_type": "stream",
          "text": [
            "Requirement already satisfied: pytorch-tabnet in /usr/local/lib/python3.7/dist-packages (3.1.1)\n",
            "Requirement already satisfied: scikit_learn>0.21 in /usr/local/lib/python3.7/dist-packages (from pytorch-tabnet) (0.22.2.post1)\n",
            "Requirement already satisfied: scipy>1.4 in /usr/local/lib/python3.7/dist-packages (from pytorch-tabnet) (1.4.1)\n",
            "Requirement already satisfied: numpy<2.0,>=1.17 in /usr/local/lib/python3.7/dist-packages (from pytorch-tabnet) (1.19.5)\n",
            "Requirement already satisfied: tqdm<5.0,>=4.36 in /usr/local/lib/python3.7/dist-packages (from pytorch-tabnet) (4.41.1)\n",
            "Requirement already satisfied: torch<2.0,>=1.2 in /usr/local/lib/python3.7/dist-packages (from pytorch-tabnet) (1.7.1+cu101)\n",
            "Requirement already satisfied: joblib>=0.11 in /usr/local/lib/python3.7/dist-packages (from scikit_learn>0.21->pytorch-tabnet) (1.0.1)\n",
            "Requirement already satisfied: typing-extensions in /usr/local/lib/python3.7/dist-packages (from torch<2.0,>=1.2->pytorch-tabnet) (3.7.4.3)\n"
          ],
          "name": "stdout"
        }
      ]
    },
    {
      "cell_type": "code",
      "metadata": {
        "id": "3UI8gqgvUusX",
        "colab": {
          "base_uri": "https://localhost:8080/"
        },
        "outputId": "2e957698-d296-4fc2-cc7e-d95aec1a71b9"
      },
      "source": [
        "!pip install catboost"
      ],
      "execution_count": 156,
      "outputs": [
        {
          "output_type": "stream",
          "text": [
            "Requirement already satisfied: catboost in /usr/local/lib/python3.7/dist-packages (0.24.4)\n",
            "Requirement already satisfied: scipy in /usr/local/lib/python3.7/dist-packages (from catboost) (1.4.1)\n",
            "Requirement already satisfied: plotly in /usr/local/lib/python3.7/dist-packages (from catboost) (4.4.1)\n",
            "Requirement already satisfied: pandas>=0.24.0 in /usr/local/lib/python3.7/dist-packages (from catboost) (1.1.5)\n",
            "Requirement already satisfied: matplotlib in /usr/local/lib/python3.7/dist-packages (from catboost) (3.2.2)\n",
            "Requirement already satisfied: graphviz in /usr/local/lib/python3.7/dist-packages (from catboost) (0.10.1)\n",
            "Requirement already satisfied: six in /usr/local/lib/python3.7/dist-packages (from catboost) (1.15.0)\n",
            "Requirement already satisfied: numpy>=1.16.0 in /usr/local/lib/python3.7/dist-packages (from catboost) (1.19.5)\n",
            "Requirement already satisfied: retrying>=1.3.3 in /usr/local/lib/python3.7/dist-packages (from plotly->catboost) (1.3.3)\n",
            "Requirement already satisfied: python-dateutil>=2.7.3 in /usr/local/lib/python3.7/dist-packages (from pandas>=0.24.0->catboost) (2.8.1)\n",
            "Requirement already satisfied: pytz>=2017.2 in /usr/local/lib/python3.7/dist-packages (from pandas>=0.24.0->catboost) (2018.9)\n",
            "Requirement already satisfied: kiwisolver>=1.0.1 in /usr/local/lib/python3.7/dist-packages (from matplotlib->catboost) (1.3.1)\n",
            "Requirement already satisfied: cycler>=0.10 in /usr/local/lib/python3.7/dist-packages (from matplotlib->catboost) (0.10.0)\n",
            "Requirement already satisfied: pyparsing!=2.0.4,!=2.1.2,!=2.1.6,>=2.0.1 in /usr/local/lib/python3.7/dist-packages (from matplotlib->catboost) (2.4.7)\n"
          ],
          "name": "stdout"
        }
      ]
    },
    {
      "cell_type": "code",
      "metadata": {
        "colab": {
          "base_uri": "https://localhost:8080/"
        },
        "id": "K2xEMsMpjRBz",
        "outputId": "04427eca-6236-42be-c33f-63c5d7857915"
      },
      "source": [
        "!pip install category_encoders"
      ],
      "execution_count": 157,
      "outputs": [
        {
          "output_type": "stream",
          "text": [
            "Requirement already satisfied: category_encoders in /usr/local/lib/python3.7/dist-packages (2.2.2)\n",
            "Requirement already satisfied: scipy>=1.0.0 in /usr/local/lib/python3.7/dist-packages (from category_encoders) (1.4.1)\n",
            "Requirement already satisfied: statsmodels>=0.9.0 in /usr/local/lib/python3.7/dist-packages (from category_encoders) (0.10.2)\n",
            "Requirement already satisfied: patsy>=0.5.1 in /usr/local/lib/python3.7/dist-packages (from category_encoders) (0.5.1)\n",
            "Requirement already satisfied: pandas>=0.21.1 in /usr/local/lib/python3.7/dist-packages (from category_encoders) (1.1.5)\n",
            "Requirement already satisfied: scikit-learn>=0.20.0 in /usr/local/lib/python3.7/dist-packages (from category_encoders) (0.22.2.post1)\n",
            "Requirement already satisfied: numpy>=1.14.0 in /usr/local/lib/python3.7/dist-packages (from category_encoders) (1.19.5)\n",
            "Requirement already satisfied: six in /usr/local/lib/python3.7/dist-packages (from patsy>=0.5.1->category_encoders) (1.15.0)\n",
            "Requirement already satisfied: python-dateutil>=2.7.3 in /usr/local/lib/python3.7/dist-packages (from pandas>=0.21.1->category_encoders) (2.8.1)\n",
            "Requirement already satisfied: pytz>=2017.2 in /usr/local/lib/python3.7/dist-packages (from pandas>=0.21.1->category_encoders) (2018.9)\n",
            "Requirement already satisfied: joblib>=0.11 in /usr/local/lib/python3.7/dist-packages (from scikit-learn>=0.20.0->category_encoders) (1.0.1)\n"
          ],
          "name": "stdout"
        }
      ]
    },
    {
      "cell_type": "code",
      "metadata": {
        "id": "MSMekwR-eL_a"
      },
      "source": [
        "import numpy as np\n",
        "import os\n",
        "import random\n",
        "import sys\n",
        "import statistics\n",
        "import pandas as pd\n",
        "from pathlib import Path\n",
        "import time\n",
        "from datetime import datetime\n",
        "import pytz\n",
        "import json\n",
        "from tqdm import tqdm\n",
        "\n",
        "#import os\n",
        "#for dirname, _, filenames in os.walk('/kaggle/input'):\n",
        "#    for filename in filenames:\n",
        "#        print(os.path.join(dirname, filename))\n",
        "        \n",
        "import matplotlib.pyplot as plt\n",
        "import seaborn as sns\n",
        "\n",
        "from sklearn.model_selection import train_test_split\n",
        "from sklearn.metrics import mean_squared_error\n",
        "\n",
        "from sklearn.dummy import DummyRegressor\n",
        "from sklearn.linear_model import LinearRegression\n",
        "from sklearn.linear_model import Ridge, Lasso\n",
        "from sklearn.ensemble import RandomForestRegressor\n",
        "from sklearn import preprocessing\n",
        "from sklearn.model_selection import KFold\n",
        "from sklearn.model_selection import StratifiedKFold\n",
        "from sklearn.neighbors import LocalOutlierFactor\n",
        "from sklearn.decomposition import PCA\n",
        "from sklearn.metrics import roc_auc_score\n",
        "from sklearn import metrics\n",
        "\n",
        "import xgboost as xgb\n",
        "import lightgbm as lgb\n",
        "import catboost as cb\n",
        "\n",
        "import torch\n",
        "from torch import nn\n",
        "from torch.utils.data import DataLoader, Dataset\n",
        "import torch.optim as optim\n",
        "import torch.nn.functional as F\n",
        "from torch.optim.lr_scheduler import ReduceLROnPlateau\n",
        "from pytorch_tabnet.tab_model import TabNetRegressor\n",
        "\n",
        "from hyperopt import hp, fmin, atpe, tpe, Trials, STATUS_OK\n",
        "from hyperopt.pyll.base import scope\n",
        "\n",
        "import warnings\n",
        "warnings.filterwarnings(\"ignore\")\n",
        "        \n",
        "#input_path = Path('/kaggle/input/tabular-playground-series-jan-2021/')\n",
        "input_path = Path('/content/drive/MyDrive/Kaggle/Tabular_Playground_Series_-_Mar_2021/Data')"
      ],
      "execution_count": 239,
      "outputs": []
    },
    {
      "cell_type": "markdown",
      "metadata": {
        "id": "4Ko1zSMe8bDj"
      },
      "source": [
        "**---------- Utilities ----------**"
      ]
    },
    {
      "cell_type": "code",
      "metadata": {
        "id": "W6QPy6pf9G0q"
      },
      "source": [
        "!rm -f /content/log.log\n",
        "!rm -f /content/results.csv\n",
        "!rm -f /content/result.png\n",
        "!rm -f /content/submission.csv\n",
        "!rm -f /content/test_preds.csv\n",
        "!rm -f /content/oof_preds.csv"
      ],
      "execution_count": 159,
      "outputs": []
    },
    {
      "cell_type": "code",
      "metadata": {
        "id": "oo_Uu2jE9LnL"
      },
      "source": [
        "def get_logger(filename='log'):\n",
        "    from logging import getLogger, INFO, StreamHandler, FileHandler, Formatter\n",
        "    logger = getLogger(__name__)\n",
        "    logger.setLevel(INFO)\n",
        "    #handler1 = StreamHandler()\n",
        "    #handler1.setFormatter(Formatter(\"%(message)s\"))\n",
        "    handler2 = FileHandler(filename=f\"{filename}.log\")\n",
        "    handler2.setFormatter(Formatter(\"%(message)s\"))\n",
        "    #logger.addHandler(handler1)\n",
        "    logger.addHandler(handler2)\n",
        "    return logger\n",
        "\n",
        "logger = get_logger('log')"
      ],
      "execution_count": 160,
      "outputs": []
    },
    {
      "cell_type": "code",
      "metadata": {
        "id": "g1MiAz8YHUvL"
      },
      "source": [
        "import logging\n",
        "\n",
        "from lightgbm.callback import _format_eval_result\n",
        "\n",
        "\n",
        "def log_evaluation(logger, period=1, show_stdv=True, level=logging.DEBUG):\n",
        "    def _callback(env):\n",
        "        if period > 0 and env.evaluation_result_list and (env.iteration + 1) % period == 0:\n",
        "            result = '\\t'.join([_format_eval_result(x, show_stdv) for x in env.evaluation_result_list])\n",
        "            logger.info('[{}]\\t{}'.format(env.iteration+1, result))\n",
        "    _callback.order = 10\n",
        "    return _callback"
      ],
      "execution_count": 161,
      "outputs": []
    },
    {
      "cell_type": "code",
      "metadata": {
        "id": "91KSFS2-0J9Q"
      },
      "source": [
        "def convDictKeyToNdarray(dict):\n",
        "    return np.array([list(dict.keys())])"
      ],
      "execution_count": 162,
      "outputs": []
    },
    {
      "cell_type": "code",
      "metadata": {
        "id": "BXqTN98ViSX5"
      },
      "source": [
        "def plot_results(name, target, pred, figsize=(6,6)):\n",
        "    plt.figure(0).clf()\n",
        "\n",
        "    fig = plt.figure(figsize=figsize)\n",
        "    fpr, tpr, thresh = metrics.roc_curve(target, pred)\n",
        "    auc = metrics.roc_auc_score(target, pred)\n",
        "    plt.title(f'{name}: {auc:0.5f}', fontsize=18)\n",
        "    plt.plot(fpr,tpr,label=name)\n",
        "    plt.legend(loc=0)\n",
        "    plt.show()\n",
        "    fig.savefig(\"result.png\")\n",
        "    #return fig"
      ],
      "execution_count": 264,
      "outputs": []
    },
    {
      "cell_type": "code",
      "metadata": {
        "id": "hmrfKRgtMmuR"
      },
      "source": [
        "def seed_everything(seed_value):\n",
        "    random.seed(seed_value)\n",
        "    np.random.seed(seed_value)\n",
        "    torch.manual_seed(seed_value)\n",
        "    os.environ['PYTHONHASHSEED'] = str(seed_value)\n",
        "    \n",
        "    if torch.cuda.is_available(): \n",
        "        torch.cuda.manual_seed(seed_value)\n",
        "        torch.cuda.manual_seed_all(seed_value)\n",
        "        torch.backends.cudnn.deterministic = True\n",
        "        torch.backends.cudnn.benchmark = False\n",
        "        \n",
        "seed_everything(21)"
      ],
      "execution_count": 164,
      "outputs": []
    },
    {
      "cell_type": "markdown",
      "metadata": {
        "id": "FtvG47eNRGwM"
      },
      "source": [
        "**---------- Data Processing ----------**"
      ]
    },
    {
      "cell_type": "code",
      "metadata": {
        "id": "Ab3Lxau5x-_F"
      },
      "source": [
        "cont_features = [\n",
        "    \"cont0\", \"cont1\", \"cont2\", \"cont3\", \"cont4\", \"cont5\", \"cont6\", \"cont7\",\n",
        "    \"cont8\", \"cont9\", \"cont10\",\n",
        "]\n",
        "cat_features = [\n",
        "    \"cat0\", \"cat1\", \"cat2\", \"cat3\", \"cat4\", \"cat5\", \"cat6\", \"cat7\",\n",
        "    \"cat8\", \"cat9\", \"cat10\", \"cat11\", \"cat12\", \"cat13\", \"cat14\", \"cat15\",\n",
        "    \"cat16\", \"cat17\", \"cat18\"\n",
        "]"
      ],
      "execution_count": 165,
      "outputs": []
    },
    {
      "cell_type": "code",
      "metadata": {
        "id": "mKRW5Afaa2a8"
      },
      "source": [
        "def replace_outliers(data):\n",
        "    for col in cont_features:\n",
        "        Q1 = data[col].quantile(0.25)\n",
        "        Q3 = data[col].quantile(0.75)\n",
        "        IQR = Q3 - Q1\n",
        "        median_ = data[col].median()\n",
        "#         data[col].mask(((data[col] < Q1 - 1.5*IQR) | (data[col] > Q3 + 1.5*IQR)), median_, inplace=True)\n",
        "        # data[col] = np.where(((data[col] < Q1 - 1.5*IQR) | (data[col] > Q3 + 1.5*IQR)),\n",
        "        #                     median_, data[col])\n",
        "        #data.loc[((data[col] < Q1 - 1.5*IQR) | (data[col] > Q3 + 1.5*IQR)), col] = median_\n",
        "        data.loc[((data[col] < Q1 - 1.5*IQR)), col] = Q1 - 1.5*IQR\n",
        "        data.loc[((data[col] > Q3 + 1.5*IQR)), col] = Q3 + 1.5*IQR\n",
        "        logger.info(f'replace_outliers : Q1 - 1.5*IQR,Q3 + 1.5*IQR')\n",
        "    return data"
      ],
      "execution_count": 166,
      "outputs": []
    },
    {
      "cell_type": "code",
      "metadata": {
        "id": "rhr1GxcgAgd7"
      },
      "source": [
        "def label_encode(train, test):\n",
        "    for column in train.columns:\n",
        "        if 'cat' in column:\n",
        "            le = preprocessing.LabelEncoder()\n",
        "            le.fit(list(train[column].astype('str')) + list(test[column].astype('str')))\n",
        "            train[column] = le.transform(list(train[column].astype(str))) \n",
        "            test[column] = le.transform(list(test[column].astype(str))) \n",
        "    return train, test"
      ],
      "execution_count": 167,
      "outputs": []
    },
    {
      "cell_type": "code",
      "metadata": {
        "id": "r7zewY9f8EKf"
      },
      "source": [
        "def reject_outliers(df, feature, threshold=3):\n",
        "    mean, std = np.mean(df), np.std(df)\n",
        "    z_score = np.abs((df-mean) / std)\n",
        "    good = z_score < threshold\n",
        "    return good"
      ],
      "execution_count": 168,
      "outputs": []
    },
    {
      "cell_type": "code",
      "metadata": {
        "id": "jGnIWmx48PNA"
      },
      "source": [
        "def reject_lof_outliers(df, feature):\n",
        "    lof = LocalOutlierFactor(n_neighbors=20, contamination=0.001, p=1)\n",
        "    good = lof.fit_predict(df) > 0.5 # change this value to set the threshold for outliers    \n",
        "    return good"
      ],
      "execution_count": 169,
      "outputs": []
    },
    {
      "cell_type": "code",
      "metadata": {
        "id": "0nSG-EWh4R1B"
      },
      "source": [
        "def apply_pca(train, test, n_components=5):\n",
        "    pca_columns = ['pca' + str(i) for i in range(n_components)]\n",
        "    pca = PCA(n_components=n_components)\n",
        "    pca.fit(train[cont_features])\n",
        "    for i, c in enumerate(pca_columns):\n",
        "        train[c] = pca.transform(train[cont_features])[:,i]\n",
        "        test[c] = pca.transform(test[cont_features])[:,i]\n",
        "    #train.drop(columns=cont_features, inplace=True)\n",
        "    #test.drop(columns=cont_features, inplace=True)\n",
        "    return train, test"
      ],
      "execution_count": 170,
      "outputs": []
    },
    {
      "cell_type": "code",
      "metadata": {
        "id": "w0OMI1rLFtT-"
      },
      "source": [
        "def add_features_times(train, test):\n",
        "    logger.info(f'add_features_times')\n",
        "    for i in range(len(cont_features)):\n",
        "        for j in range(i+1,len(cont_features)):\n",
        "            feature_name = cont_features[i] + '*' + cont_features[j]\n",
        "            train[feature_name] = train[cont_features[i]] * train[cont_features[j]]\n",
        "            test[feature_name] = test[cont_features[i]] * test[cont_features[j]]\n",
        "    return train, test"
      ],
      "execution_count": 171,
      "outputs": []
    },
    {
      "cell_type": "code",
      "metadata": {
        "id": "8udEij0gRTcF"
      },
      "source": [
        "def add_features_division(train, test):\n",
        "    logger.info(f'add_features_division')\n",
        "    for i in cont_features:\n",
        "        for j in cont_features:\n",
        "            if i != j:\n",
        "                feature_name = i + '/' + j\n",
        "                train[feature_name] = train[i] / train[j]\n",
        "                test[feature_name] = test[i] / test[j]\n",
        "    return train, test"
      ],
      "execution_count": 172,
      "outputs": []
    },
    {
      "cell_type": "code",
      "metadata": {
        "id": "zBwCQghNX7Yu"
      },
      "source": [
        "def add_features_statistics(train, test):\n",
        "    logger.info(f'add_features_statistics')\n",
        "    for i in cat_features:\n",
        "        for j in cont_features:\n",
        "            feature_name_count = i + '_' + j + '_count'\n",
        "            feature_name_mean = i + '_' + j + '_mean'\n",
        "            feature_name_std = i + '_' + j + '_std'\n",
        "            feature_name_min = i + '_' + j + '_min'\n",
        "            feature_name_max = i + '_' + j + '_max'\n",
        "            feature_name_median = i + '_' + j + '_median'\n",
        "\n",
        "            train[feature_name_count] = train[i]\n",
        "            train[feature_name_mean] = train[i] \n",
        "            train[feature_name_std] = train[i] \n",
        "            train[feature_name_min] = train[i] \n",
        "            train[feature_name_max] = train[i] \n",
        "            train[feature_name_median] = train[i] \n",
        "\n",
        "            test[feature_name_count] = test[j]\n",
        "            test[feature_name_mean] = test[j]\n",
        "            test[feature_name_std] = test[j]\n",
        "            test[feature_name_min] = test[j]\n",
        "            test[feature_name_max] = test[j]\n",
        "            test[feature_name_median] = test[j]\n",
        "\n",
        "            for k, s in enumerate(train.groupby(i)[j].count()):\n",
        "                train[feature_name_count].loc[train[feature_name_count] == k] = s\n",
        "                test[feature_name_count].loc[test[feature_name_count] == k] = s\n",
        "\n",
        "            for k, s in enumerate(train.groupby(i)[j].mean()):\n",
        "                train[feature_name_mean].loc[train[feature_name_mean] == k] = s\n",
        "                test[feature_name_mean].loc[test[feature_name_mean] == k] = s\n",
        "\n",
        "            for k, s in enumerate(train.groupby(i)[j].std()):\n",
        "                train[feature_name_std].loc[train[feature_name_std] == k] = s\n",
        "                test[feature_name_std].loc[test[feature_name_std] == k] = s\n",
        "\n",
        "            for k, s in enumerate(train.groupby(i)[j].min()):\n",
        "                train[feature_name_min].loc[train[feature_name_min] == k] = s\n",
        "                test[feature_name_min].loc[test[feature_name_min] == k] = s\n",
        "\n",
        "            for k, s in enumerate(train.groupby(i)[j].max()):\n",
        "                train[feature_name_max].loc[train[feature_name_max] == k] = s\n",
        "                test[feature_name_max].loc[test[feature_name_max] == k] = s\n",
        "            \n",
        "            for k, s in enumerate(train.groupby(i)[j].median()):\n",
        "                train[feature_name_median].loc[train[feature_name_median] == k] = s\n",
        "                test[feature_name_median].loc[test[feature_name_median] == k] = s\n",
        "  \n",
        "\n",
        "    return train, test"
      ],
      "execution_count": 173,
      "outputs": []
    },
    {
      "cell_type": "code",
      "metadata": {
        "id": "tX8em8IYhCN5",
        "colab": {
          "base_uri": "https://localhost:8080/",
          "height": 255
        },
        "outputId": "753f7ef8-c714-4bf1-8c67-498ee64849a9"
      },
      "source": [
        "train = pd.read_csv(input_path / 'train.csv', index_col='id')\n",
        "#train = pd.read_csv(input_path / 'train4.csv', index_col='id')\n",
        "display(train.head())"
      ],
      "execution_count": 174,
      "outputs": [
        {
          "output_type": "display_data",
          "data": {
            "text/html": [
              "<div>\n",
              "<style scoped>\n",
              "    .dataframe tbody tr th:only-of-type {\n",
              "        vertical-align: middle;\n",
              "    }\n",
              "\n",
              "    .dataframe tbody tr th {\n",
              "        vertical-align: top;\n",
              "    }\n",
              "\n",
              "    .dataframe thead th {\n",
              "        text-align: right;\n",
              "    }\n",
              "</style>\n",
              "<table border=\"1\" class=\"dataframe\">\n",
              "  <thead>\n",
              "    <tr style=\"text-align: right;\">\n",
              "      <th></th>\n",
              "      <th>cat0</th>\n",
              "      <th>cat1</th>\n",
              "      <th>cat2</th>\n",
              "      <th>cat3</th>\n",
              "      <th>cat4</th>\n",
              "      <th>cat5</th>\n",
              "      <th>cat6</th>\n",
              "      <th>cat7</th>\n",
              "      <th>cat8</th>\n",
              "      <th>cat9</th>\n",
              "      <th>cat10</th>\n",
              "      <th>cat11</th>\n",
              "      <th>cat12</th>\n",
              "      <th>cat13</th>\n",
              "      <th>cat14</th>\n",
              "      <th>cat15</th>\n",
              "      <th>cat16</th>\n",
              "      <th>cat17</th>\n",
              "      <th>cat18</th>\n",
              "      <th>cont0</th>\n",
              "      <th>cont1</th>\n",
              "      <th>cont2</th>\n",
              "      <th>cont3</th>\n",
              "      <th>cont4</th>\n",
              "      <th>cont5</th>\n",
              "      <th>cont6</th>\n",
              "      <th>cont7</th>\n",
              "      <th>cont8</th>\n",
              "      <th>cont9</th>\n",
              "      <th>cont10</th>\n",
              "      <th>target</th>\n",
              "    </tr>\n",
              "    <tr>\n",
              "      <th>id</th>\n",
              "      <th></th>\n",
              "      <th></th>\n",
              "      <th></th>\n",
              "      <th></th>\n",
              "      <th></th>\n",
              "      <th></th>\n",
              "      <th></th>\n",
              "      <th></th>\n",
              "      <th></th>\n",
              "      <th></th>\n",
              "      <th></th>\n",
              "      <th></th>\n",
              "      <th></th>\n",
              "      <th></th>\n",
              "      <th></th>\n",
              "      <th></th>\n",
              "      <th></th>\n",
              "      <th></th>\n",
              "      <th></th>\n",
              "      <th></th>\n",
              "      <th></th>\n",
              "      <th></th>\n",
              "      <th></th>\n",
              "      <th></th>\n",
              "      <th></th>\n",
              "      <th></th>\n",
              "      <th></th>\n",
              "      <th></th>\n",
              "      <th></th>\n",
              "      <th></th>\n",
              "      <th></th>\n",
              "    </tr>\n",
              "  </thead>\n",
              "  <tbody>\n",
              "    <tr>\n",
              "      <th>0</th>\n",
              "      <td>A</td>\n",
              "      <td>I</td>\n",
              "      <td>A</td>\n",
              "      <td>B</td>\n",
              "      <td>B</td>\n",
              "      <td>BI</td>\n",
              "      <td>A</td>\n",
              "      <td>S</td>\n",
              "      <td>Q</td>\n",
              "      <td>A</td>\n",
              "      <td>LO</td>\n",
              "      <td>A</td>\n",
              "      <td>A</td>\n",
              "      <td>A</td>\n",
              "      <td>A</td>\n",
              "      <td>B</td>\n",
              "      <td>D</td>\n",
              "      <td>D</td>\n",
              "      <td>B</td>\n",
              "      <td>0.629858</td>\n",
              "      <td>0.855349</td>\n",
              "      <td>0.759439</td>\n",
              "      <td>0.795549</td>\n",
              "      <td>0.681917</td>\n",
              "      <td>0.621672</td>\n",
              "      <td>0.592184</td>\n",
              "      <td>0.791921</td>\n",
              "      <td>0.815254</td>\n",
              "      <td>0.965006</td>\n",
              "      <td>0.665915</td>\n",
              "      <td>0</td>\n",
              "    </tr>\n",
              "    <tr>\n",
              "      <th>1</th>\n",
              "      <td>A</td>\n",
              "      <td>I</td>\n",
              "      <td>A</td>\n",
              "      <td>A</td>\n",
              "      <td>E</td>\n",
              "      <td>BI</td>\n",
              "      <td>K</td>\n",
              "      <td>W</td>\n",
              "      <td>AD</td>\n",
              "      <td>F</td>\n",
              "      <td>HJ</td>\n",
              "      <td>A</td>\n",
              "      <td>B</td>\n",
              "      <td>A</td>\n",
              "      <td>B</td>\n",
              "      <td>D</td>\n",
              "      <td>B</td>\n",
              "      <td>D</td>\n",
              "      <td>B</td>\n",
              "      <td>0.370727</td>\n",
              "      <td>0.328929</td>\n",
              "      <td>0.386385</td>\n",
              "      <td>0.541366</td>\n",
              "      <td>0.388982</td>\n",
              "      <td>0.357778</td>\n",
              "      <td>0.600044</td>\n",
              "      <td>0.408701</td>\n",
              "      <td>0.399353</td>\n",
              "      <td>0.927406</td>\n",
              "      <td>0.493729</td>\n",
              "      <td>0</td>\n",
              "    </tr>\n",
              "    <tr>\n",
              "      <th>2</th>\n",
              "      <td>A</td>\n",
              "      <td>K</td>\n",
              "      <td>A</td>\n",
              "      <td>A</td>\n",
              "      <td>E</td>\n",
              "      <td>BI</td>\n",
              "      <td>A</td>\n",
              "      <td>E</td>\n",
              "      <td>BM</td>\n",
              "      <td>L</td>\n",
              "      <td>DJ</td>\n",
              "      <td>A</td>\n",
              "      <td>B</td>\n",
              "      <td>A</td>\n",
              "      <td>A</td>\n",
              "      <td>B</td>\n",
              "      <td>D</td>\n",
              "      <td>D</td>\n",
              "      <td>B</td>\n",
              "      <td>0.502272</td>\n",
              "      <td>0.322749</td>\n",
              "      <td>0.343255</td>\n",
              "      <td>0.616352</td>\n",
              "      <td>0.793687</td>\n",
              "      <td>0.552877</td>\n",
              "      <td>0.352113</td>\n",
              "      <td>0.388835</td>\n",
              "      <td>0.412303</td>\n",
              "      <td>0.292696</td>\n",
              "      <td>0.549452</td>\n",
              "      <td>0</td>\n",
              "    </tr>\n",
              "    <tr>\n",
              "      <th>3</th>\n",
              "      <td>A</td>\n",
              "      <td>K</td>\n",
              "      <td>A</td>\n",
              "      <td>C</td>\n",
              "      <td>E</td>\n",
              "      <td>BI</td>\n",
              "      <td>A</td>\n",
              "      <td>Y</td>\n",
              "      <td>AD</td>\n",
              "      <td>F</td>\n",
              "      <td>KV</td>\n",
              "      <td>A</td>\n",
              "      <td>A</td>\n",
              "      <td>A</td>\n",
              "      <td>A</td>\n",
              "      <td>B</td>\n",
              "      <td>D</td>\n",
              "      <td>D</td>\n",
              "      <td>B</td>\n",
              "      <td>0.934242</td>\n",
              "      <td>0.707663</td>\n",
              "      <td>0.831147</td>\n",
              "      <td>0.807807</td>\n",
              "      <td>0.800032</td>\n",
              "      <td>0.619147</td>\n",
              "      <td>0.221789</td>\n",
              "      <td>0.897617</td>\n",
              "      <td>0.633669</td>\n",
              "      <td>0.760318</td>\n",
              "      <td>0.934242</td>\n",
              "      <td>0</td>\n",
              "    </tr>\n",
              "    <tr>\n",
              "      <th>4</th>\n",
              "      <td>A</td>\n",
              "      <td>I</td>\n",
              "      <td>G</td>\n",
              "      <td>B</td>\n",
              "      <td>E</td>\n",
              "      <td>BI</td>\n",
              "      <td>C</td>\n",
              "      <td>G</td>\n",
              "      <td>Q</td>\n",
              "      <td>A</td>\n",
              "      <td>DP</td>\n",
              "      <td>A</td>\n",
              "      <td>A</td>\n",
              "      <td>A</td>\n",
              "      <td>B</td>\n",
              "      <td>B</td>\n",
              "      <td>B</td>\n",
              "      <td>D</td>\n",
              "      <td>B</td>\n",
              "      <td>0.254427</td>\n",
              "      <td>0.274514</td>\n",
              "      <td>0.338818</td>\n",
              "      <td>0.277308</td>\n",
              "      <td>0.610578</td>\n",
              "      <td>0.128291</td>\n",
              "      <td>0.578764</td>\n",
              "      <td>0.279167</td>\n",
              "      <td>0.351103</td>\n",
              "      <td>0.357084</td>\n",
              "      <td>0.328960</td>\n",
              "      <td>1</td>\n",
              "    </tr>\n",
              "  </tbody>\n",
              "</table>\n",
              "</div>"
            ],
            "text/plain": [
              "   cat0 cat1 cat2 cat3 cat4  ...     cont7     cont8     cont9    cont10 target\n",
              "id                           ...                                               \n",
              "0     A    I    A    B    B  ...  0.791921  0.815254  0.965006  0.665915      0\n",
              "1     A    I    A    A    E  ...  0.408701  0.399353  0.927406  0.493729      0\n",
              "2     A    K    A    A    E  ...  0.388835  0.412303  0.292696  0.549452      0\n",
              "3     A    K    A    C    E  ...  0.897617  0.633669  0.760318  0.934242      0\n",
              "4     A    I    G    B    E  ...  0.279167  0.351103  0.357084  0.328960      1\n",
              "\n",
              "[5 rows x 31 columns]"
            ]
          },
          "metadata": {
            "tags": []
          }
        }
      ]
    },
    {
      "cell_type": "code",
      "metadata": {
        "id": "KKpVTI0nhEqG",
        "colab": {
          "base_uri": "https://localhost:8080/",
          "height": 255
        },
        "outputId": "e38d6245-438c-4bff-b2f0-88d456eaaa01"
      },
      "source": [
        "test = pd.read_csv(input_path / 'test.csv', index_col='id')\n",
        "#test = pd.read_csv(input_path / 'test4.csv', index_col='id')\n",
        "display(test.head())"
      ],
      "execution_count": 175,
      "outputs": [
        {
          "output_type": "display_data",
          "data": {
            "text/html": [
              "<div>\n",
              "<style scoped>\n",
              "    .dataframe tbody tr th:only-of-type {\n",
              "        vertical-align: middle;\n",
              "    }\n",
              "\n",
              "    .dataframe tbody tr th {\n",
              "        vertical-align: top;\n",
              "    }\n",
              "\n",
              "    .dataframe thead th {\n",
              "        text-align: right;\n",
              "    }\n",
              "</style>\n",
              "<table border=\"1\" class=\"dataframe\">\n",
              "  <thead>\n",
              "    <tr style=\"text-align: right;\">\n",
              "      <th></th>\n",
              "      <th>cat0</th>\n",
              "      <th>cat1</th>\n",
              "      <th>cat2</th>\n",
              "      <th>cat3</th>\n",
              "      <th>cat4</th>\n",
              "      <th>cat5</th>\n",
              "      <th>cat6</th>\n",
              "      <th>cat7</th>\n",
              "      <th>cat8</th>\n",
              "      <th>cat9</th>\n",
              "      <th>cat10</th>\n",
              "      <th>cat11</th>\n",
              "      <th>cat12</th>\n",
              "      <th>cat13</th>\n",
              "      <th>cat14</th>\n",
              "      <th>cat15</th>\n",
              "      <th>cat16</th>\n",
              "      <th>cat17</th>\n",
              "      <th>cat18</th>\n",
              "      <th>cont0</th>\n",
              "      <th>cont1</th>\n",
              "      <th>cont2</th>\n",
              "      <th>cont3</th>\n",
              "      <th>cont4</th>\n",
              "      <th>cont5</th>\n",
              "      <th>cont6</th>\n",
              "      <th>cont7</th>\n",
              "      <th>cont8</th>\n",
              "      <th>cont9</th>\n",
              "      <th>cont10</th>\n",
              "    </tr>\n",
              "    <tr>\n",
              "      <th>id</th>\n",
              "      <th></th>\n",
              "      <th></th>\n",
              "      <th></th>\n",
              "      <th></th>\n",
              "      <th></th>\n",
              "      <th></th>\n",
              "      <th></th>\n",
              "      <th></th>\n",
              "      <th></th>\n",
              "      <th></th>\n",
              "      <th></th>\n",
              "      <th></th>\n",
              "      <th></th>\n",
              "      <th></th>\n",
              "      <th></th>\n",
              "      <th></th>\n",
              "      <th></th>\n",
              "      <th></th>\n",
              "      <th></th>\n",
              "      <th></th>\n",
              "      <th></th>\n",
              "      <th></th>\n",
              "      <th></th>\n",
              "      <th></th>\n",
              "      <th></th>\n",
              "      <th></th>\n",
              "      <th></th>\n",
              "      <th></th>\n",
              "      <th></th>\n",
              "      <th></th>\n",
              "    </tr>\n",
              "  </thead>\n",
              "  <tbody>\n",
              "    <tr>\n",
              "      <th>5</th>\n",
              "      <td>A</td>\n",
              "      <td>F</td>\n",
              "      <td>A</td>\n",
              "      <td>A</td>\n",
              "      <td>F</td>\n",
              "      <td>BI</td>\n",
              "      <td>A</td>\n",
              "      <td>AH</td>\n",
              "      <td>AX</td>\n",
              "      <td>A</td>\n",
              "      <td>LF</td>\n",
              "      <td>A</td>\n",
              "      <td>A</td>\n",
              "      <td>A</td>\n",
              "      <td>A</td>\n",
              "      <td>B</td>\n",
              "      <td>D</td>\n",
              "      <td>D</td>\n",
              "      <td>B</td>\n",
              "      <td>0.708120</td>\n",
              "      <td>0.735690</td>\n",
              "      <td>0.578366</td>\n",
              "      <td>0.723154</td>\n",
              "      <td>0.228037</td>\n",
              "      <td>0.356227</td>\n",
              "      <td>0.551249</td>\n",
              "      <td>0.655693</td>\n",
              "      <td>0.598331</td>\n",
              "      <td>0.359987</td>\n",
              "      <td>0.947489</td>\n",
              "    </tr>\n",
              "    <tr>\n",
              "      <th>6</th>\n",
              "      <td>A</td>\n",
              "      <td>H</td>\n",
              "      <td>C</td>\n",
              "      <td>A</td>\n",
              "      <td>E</td>\n",
              "      <td>AB</td>\n",
              "      <td>I</td>\n",
              "      <td>F</td>\n",
              "      <td>N</td>\n",
              "      <td>A</td>\n",
              "      <td>MC</td>\n",
              "      <td>A</td>\n",
              "      <td>A</td>\n",
              "      <td>A</td>\n",
              "      <td>B</td>\n",
              "      <td>D</td>\n",
              "      <td>B</td>\n",
              "      <td>D</td>\n",
              "      <td>B</td>\n",
              "      <td>0.611637</td>\n",
              "      <td>0.313703</td>\n",
              "      <td>0.928885</td>\n",
              "      <td>0.516602</td>\n",
              "      <td>0.600169</td>\n",
              "      <td>0.795224</td>\n",
              "      <td>0.248987</td>\n",
              "      <td>0.654614</td>\n",
              "      <td>0.347944</td>\n",
              "      <td>0.565520</td>\n",
              "      <td>0.388580</td>\n",
              "    </tr>\n",
              "    <tr>\n",
              "      <th>8</th>\n",
              "      <td>A</td>\n",
              "      <td>N</td>\n",
              "      <td>C</td>\n",
              "      <td>A</td>\n",
              "      <td>F</td>\n",
              "      <td>AB</td>\n",
              "      <td>A</td>\n",
              "      <td>AH</td>\n",
              "      <td>BC</td>\n",
              "      <td>A</td>\n",
              "      <td>FN</td>\n",
              "      <td>A</td>\n",
              "      <td>A</td>\n",
              "      <td>A</td>\n",
              "      <td>B</td>\n",
              "      <td>B</td>\n",
              "      <td>D</td>\n",
              "      <td>D</td>\n",
              "      <td>B</td>\n",
              "      <td>0.456289</td>\n",
              "      <td>0.448201</td>\n",
              "      <td>0.424876</td>\n",
              "      <td>0.344729</td>\n",
              "      <td>0.242073</td>\n",
              "      <td>0.270632</td>\n",
              "      <td>0.746740</td>\n",
              "      <td>0.335590</td>\n",
              "      <td>0.341238</td>\n",
              "      <td>0.252289</td>\n",
              "      <td>0.411592</td>\n",
              "    </tr>\n",
              "    <tr>\n",
              "      <th>9</th>\n",
              "      <td>B</td>\n",
              "      <td>L</td>\n",
              "      <td>C</td>\n",
              "      <td>A</td>\n",
              "      <td>F</td>\n",
              "      <td>BI</td>\n",
              "      <td>A</td>\n",
              "      <td>E</td>\n",
              "      <td>AX</td>\n",
              "      <td>A</td>\n",
              "      <td>HK</td>\n",
              "      <td>A</td>\n",
              "      <td>A</td>\n",
              "      <td>A</td>\n",
              "      <td>A</td>\n",
              "      <td>B</td>\n",
              "      <td>D</td>\n",
              "      <td>B</td>\n",
              "      <td>B</td>\n",
              "      <td>0.338692</td>\n",
              "      <td>0.666092</td>\n",
              "      <td>0.598943</td>\n",
              "      <td>0.561971</td>\n",
              "      <td>0.806347</td>\n",
              "      <td>0.735983</td>\n",
              "      <td>0.538724</td>\n",
              "      <td>0.381566</td>\n",
              "      <td>0.481660</td>\n",
              "      <td>0.348514</td>\n",
              "      <td>0.325723</td>\n",
              "    </tr>\n",
              "    <tr>\n",
              "      <th>11</th>\n",
              "      <td>A</td>\n",
              "      <td>F</td>\n",
              "      <td>A</td>\n",
              "      <td>B</td>\n",
              "      <td>F</td>\n",
              "      <td>BI</td>\n",
              "      <td>A</td>\n",
              "      <td>AH</td>\n",
              "      <td>I</td>\n",
              "      <td>A</td>\n",
              "      <td>HX</td>\n",
              "      <td>A</td>\n",
              "      <td>A</td>\n",
              "      <td>A</td>\n",
              "      <td>A</td>\n",
              "      <td>D</td>\n",
              "      <td>D</td>\n",
              "      <td>D</td>\n",
              "      <td>B</td>\n",
              "      <td>0.631671</td>\n",
              "      <td>0.772229</td>\n",
              "      <td>0.479572</td>\n",
              "      <td>0.767745</td>\n",
              "      <td>0.252454</td>\n",
              "      <td>0.354810</td>\n",
              "      <td>0.178920</td>\n",
              "      <td>0.763479</td>\n",
              "      <td>0.562491</td>\n",
              "      <td>0.466261</td>\n",
              "      <td>0.585781</td>\n",
              "    </tr>\n",
              "  </tbody>\n",
              "</table>\n",
              "</div>"
            ],
            "text/plain": [
              "   cat0 cat1 cat2 cat3 cat4  ...     cont6     cont7     cont8     cont9    cont10\n",
              "id                           ...                                                  \n",
              "5     A    F    A    A    F  ...  0.551249  0.655693  0.598331  0.359987  0.947489\n",
              "6     A    H    C    A    E  ...  0.248987  0.654614  0.347944  0.565520  0.388580\n",
              "8     A    N    C    A    F  ...  0.746740  0.335590  0.341238  0.252289  0.411592\n",
              "9     B    L    C    A    F  ...  0.538724  0.381566  0.481660  0.348514  0.325723\n",
              "11    A    F    A    B    F  ...  0.178920  0.763479  0.562491  0.466261  0.585781\n",
              "\n",
              "[5 rows x 30 columns]"
            ]
          },
          "metadata": {
            "tags": []
          }
        }
      ]
    },
    {
      "cell_type": "code",
      "metadata": {
        "colab": {
          "base_uri": "https://localhost:8080/",
          "height": 137
        },
        "id": "JL49qoEKjFXL",
        "outputId": "6c40406a-9f5d-4315-bd31-e43b7b2f5e74"
      },
      "source": [
        "'''\n",
        "from category_encoders import LeaveOneOutEncoder\n",
        "from sklearn.preprocessing import LabelEncoder\n",
        "\n",
        "xgb_cat_features = []\n",
        "lgb_cat_features = []\n",
        "cb_cat_features = []\n",
        "ridge_cat_features = []\n",
        "sgd_cat_features = []\n",
        "\n",
        "loo_features = []\n",
        "le_features = []\n",
        "\n",
        "def label_encode(train_df, test_df, column):\n",
        "    le = LabelEncoder()\n",
        "    new_feature = \"{}_le\".format(column)\n",
        "    le.fit(train_df[column].unique().tolist() + test_df[column].unique().tolist())\n",
        "    train_df[new_feature] = le.transform(train_df[column])\n",
        "    test_df[new_feature] = le.transform(test_df[column])\n",
        "    return new_feature\n",
        "\n",
        "def loo_encode(train_df, test_df, column):\n",
        "    loo = LeaveOneOutEncoder()\n",
        "    new_feature = \"{}_loo\".format(column)\n",
        "    loo.fit(train_df[column], train_df[\"target\"])\n",
        "    train_df[new_feature] = loo.transform(train_df[column])\n",
        "    test_df[new_feature] = loo.transform(test_df[column])\n",
        "    return new_feature\n",
        "\n",
        "for feature in cat_features:\n",
        "    loo_features.append(loo_encode(train, test, feature))\n",
        "    le_features.append(label_encode(train, test, feature))\n",
        "    \n",
        "xgb_cat_features.extend(loo_features)\n",
        "lgb_cat_features.extend(le_features)\n",
        "cb_cat_features.extend(cat_features)\n",
        "ridge_cat_features.extend(loo_features)\n",
        "sgd_cat_features.extend(loo_features)\n",
        "'''"
      ],
      "execution_count": 176,
      "outputs": [
        {
          "output_type": "execute_result",
          "data": {
            "application/vnd.google.colaboratory.intrinsic+json": {
              "type": "string"
            },
            "text/plain": [
              "'\\nfrom category_encoders import LeaveOneOutEncoder\\nfrom sklearn.preprocessing import LabelEncoder\\n\\nxgb_cat_features = []\\nlgb_cat_features = []\\ncb_cat_features = []\\nridge_cat_features = []\\nsgd_cat_features = []\\n\\nloo_features = []\\nle_features = []\\n\\ndef label_encode(train_df, test_df, column):\\n    le = LabelEncoder()\\n    new_feature = \"{}_le\".format(column)\\n    le.fit(train_df[column].unique().tolist() + test_df[column].unique().tolist())\\n    train_df[new_feature] = le.transform(train_df[column])\\n    test_df[new_feature] = le.transform(test_df[column])\\n    return new_feature\\n\\ndef loo_encode(train_df, test_df, column):\\n    loo = LeaveOneOutEncoder()\\n    new_feature = \"{}_loo\".format(column)\\n    loo.fit(train_df[column], train_df[\"target\"])\\n    train_df[new_feature] = loo.transform(train_df[column])\\n    test_df[new_feature] = loo.transform(test_df[column])\\n    return new_feature\\n\\nfor feature in cat_features:\\n    loo_features.append(loo_encode(train, test, feature))\\n    le_features.append(label_encode(train, test, feature))\\n    \\nxgb_cat_features.extend(loo_features)\\nlgb_cat_features.extend(le_features)\\ncb_cat_features.extend(cat_features)\\nridge_cat_features.extend(loo_features)\\nsgd_cat_features.extend(loo_features)\\n'"
            ]
          },
          "metadata": {
            "tags": []
          },
          "execution_count": 176
        }
      ]
    },
    {
      "cell_type": "code",
      "metadata": {
        "id": "6nRDx_b-PiQb"
      },
      "source": [
        "#target = pd.read_csv(input_path / 'target.csv', index_col='id')\n",
        "#display(target.head())"
      ],
      "execution_count": 177,
      "outputs": []
    },
    {
      "cell_type": "code",
      "metadata": {
        "id": "wwGPBOIWBSmK"
      },
      "source": [
        "train, test = label_encode(train, test)"
      ],
      "execution_count": 178,
      "outputs": []
    },
    {
      "cell_type": "code",
      "metadata": {
        "id": "HGeDIDFHa6z_"
      },
      "source": [
        "#train = replace_outliers(train)\n",
        "#test = replace_outliers(test)"
      ],
      "execution_count": 179,
      "outputs": []
    },
    {
      "cell_type": "code",
      "metadata": {
        "id": "gPsMt-zA8dWm"
      },
      "source": [
        "#good = reject_outliers(train['target'], 'target', threshold=4)\n",
        "#train = train[good]\n",
        "#good = reject_lof_outliers(train['target'].values.reshape(train['target'].shape[0], -1), 'target')\n",
        "#train = train[good]"
      ],
      "execution_count": 180,
      "outputs": []
    },
    {
      "cell_type": "code",
      "metadata": {
        "id": "9g0wIifS6FT0"
      },
      "source": [
        "#train, test = apply_pca(train,test)"
      ],
      "execution_count": 181,
      "outputs": []
    },
    {
      "cell_type": "code",
      "metadata": {
        "id": "3Ysr6a6RHuhr"
      },
      "source": [
        "#train, test = add_features_times(train, test)"
      ],
      "execution_count": 182,
      "outputs": []
    },
    {
      "cell_type": "code",
      "metadata": {
        "id": "ajZ6adH2SEe8"
      },
      "source": [
        "#train, test = add_features_division(train, test)"
      ],
      "execution_count": 183,
      "outputs": []
    },
    {
      "cell_type": "code",
      "metadata": {
        "id": "AOaJRjRrY4b-"
      },
      "source": [
        "#train, test = add_features_statistics(train, test)"
      ],
      "execution_count": 184,
      "outputs": []
    },
    {
      "cell_type": "code",
      "metadata": {
        "id": "-oybeWFYBaQ1",
        "colab": {
          "base_uri": "https://localhost:8080/",
          "height": 470
        },
        "outputId": "8a111bed-c209-45a4-be2e-cea224d635f4"
      },
      "source": [
        "display(train.tail(100))"
      ],
      "execution_count": 185,
      "outputs": [
        {
          "output_type": "display_data",
          "data": {
            "text/html": [
              "<div>\n",
              "<style scoped>\n",
              "    .dataframe tbody tr th:only-of-type {\n",
              "        vertical-align: middle;\n",
              "    }\n",
              "\n",
              "    .dataframe tbody tr th {\n",
              "        vertical-align: top;\n",
              "    }\n",
              "\n",
              "    .dataframe thead th {\n",
              "        text-align: right;\n",
              "    }\n",
              "</style>\n",
              "<table border=\"1\" class=\"dataframe\">\n",
              "  <thead>\n",
              "    <tr style=\"text-align: right;\">\n",
              "      <th></th>\n",
              "      <th>cat0</th>\n",
              "      <th>cat1</th>\n",
              "      <th>cat2</th>\n",
              "      <th>cat3</th>\n",
              "      <th>cat4</th>\n",
              "      <th>cat5</th>\n",
              "      <th>cat6</th>\n",
              "      <th>cat7</th>\n",
              "      <th>cat8</th>\n",
              "      <th>cat9</th>\n",
              "      <th>cat10</th>\n",
              "      <th>cat11</th>\n",
              "      <th>cat12</th>\n",
              "      <th>cat13</th>\n",
              "      <th>cat14</th>\n",
              "      <th>cat15</th>\n",
              "      <th>cat16</th>\n",
              "      <th>cat17</th>\n",
              "      <th>cat18</th>\n",
              "      <th>cont0</th>\n",
              "      <th>cont1</th>\n",
              "      <th>cont2</th>\n",
              "      <th>cont3</th>\n",
              "      <th>cont4</th>\n",
              "      <th>cont5</th>\n",
              "      <th>cont6</th>\n",
              "      <th>cont7</th>\n",
              "      <th>cont8</th>\n",
              "      <th>cont9</th>\n",
              "      <th>cont10</th>\n",
              "      <th>target</th>\n",
              "    </tr>\n",
              "    <tr>\n",
              "      <th>id</th>\n",
              "      <th></th>\n",
              "      <th></th>\n",
              "      <th></th>\n",
              "      <th></th>\n",
              "      <th></th>\n",
              "      <th></th>\n",
              "      <th></th>\n",
              "      <th></th>\n",
              "      <th></th>\n",
              "      <th></th>\n",
              "      <th></th>\n",
              "      <th></th>\n",
              "      <th></th>\n",
              "      <th></th>\n",
              "      <th></th>\n",
              "      <th></th>\n",
              "      <th></th>\n",
              "      <th></th>\n",
              "      <th></th>\n",
              "      <th></th>\n",
              "      <th></th>\n",
              "      <th></th>\n",
              "      <th></th>\n",
              "      <th></th>\n",
              "      <th></th>\n",
              "      <th></th>\n",
              "      <th></th>\n",
              "      <th></th>\n",
              "      <th></th>\n",
              "      <th></th>\n",
              "      <th></th>\n",
              "    </tr>\n",
              "  </thead>\n",
              "  <tbody>\n",
              "    <tr>\n",
              "      <th>499844</th>\n",
              "      <td>0</td>\n",
              "      <td>1</td>\n",
              "      <td>3</td>\n",
              "      <td>0</td>\n",
              "      <td>3</td>\n",
              "      <td>2</td>\n",
              "      <td>2</td>\n",
              "      <td>46</td>\n",
              "      <td>48</td>\n",
              "      <td>0</td>\n",
              "      <td>138</td>\n",
              "      <td>0</td>\n",
              "      <td>0</td>\n",
              "      <td>0</td>\n",
              "      <td>1</td>\n",
              "      <td>1</td>\n",
              "      <td>3</td>\n",
              "      <td>3</td>\n",
              "      <td>1</td>\n",
              "      <td>0.276137</td>\n",
              "      <td>0.243833</td>\n",
              "      <td>0.264478</td>\n",
              "      <td>0.180320</td>\n",
              "      <td>0.228273</td>\n",
              "      <td>0.067551</td>\n",
              "      <td>0.131372</td>\n",
              "      <td>0.300103</td>\n",
              "      <td>0.393892</td>\n",
              "      <td>0.516286</td>\n",
              "      <td>0.300021</td>\n",
              "      <td>0</td>\n",
              "    </tr>\n",
              "    <tr>\n",
              "      <th>499846</th>\n",
              "      <td>1</td>\n",
              "      <td>7</td>\n",
              "      <td>0</td>\n",
              "      <td>1</td>\n",
              "      <td>4</td>\n",
              "      <td>33</td>\n",
              "      <td>0</td>\n",
              "      <td>39</td>\n",
              "      <td>55</td>\n",
              "      <td>0</td>\n",
              "      <td>191</td>\n",
              "      <td>0</td>\n",
              "      <td>0</td>\n",
              "      <td>0</td>\n",
              "      <td>1</td>\n",
              "      <td>1</td>\n",
              "      <td>3</td>\n",
              "      <td>3</td>\n",
              "      <td>1</td>\n",
              "      <td>0.175500</td>\n",
              "      <td>0.456276</td>\n",
              "      <td>0.352018</td>\n",
              "      <td>0.658452</td>\n",
              "      <td>0.600718</td>\n",
              "      <td>0.177963</td>\n",
              "      <td>0.227571</td>\n",
              "      <td>0.544379</td>\n",
              "      <td>0.390248</td>\n",
              "      <td>0.446979</td>\n",
              "      <td>0.496481</td>\n",
              "      <td>0</td>\n",
              "    </tr>\n",
              "    <tr>\n",
              "      <th>499847</th>\n",
              "      <td>0</td>\n",
              "      <td>8</td>\n",
              "      <td>2</td>\n",
              "      <td>0</td>\n",
              "      <td>5</td>\n",
              "      <td>2</td>\n",
              "      <td>0</td>\n",
              "      <td>46</td>\n",
              "      <td>59</td>\n",
              "      <td>0</td>\n",
              "      <td>73</td>\n",
              "      <td>0</td>\n",
              "      <td>0</td>\n",
              "      <td>0</td>\n",
              "      <td>0</td>\n",
              "      <td>1</td>\n",
              "      <td>3</td>\n",
              "      <td>3</td>\n",
              "      <td>1</td>\n",
              "      <td>0.314453</td>\n",
              "      <td>0.413312</td>\n",
              "      <td>0.428315</td>\n",
              "      <td>0.287947</td>\n",
              "      <td>0.290131</td>\n",
              "      <td>0.357274</td>\n",
              "      <td>0.500557</td>\n",
              "      <td>0.343928</td>\n",
              "      <td>0.342924</td>\n",
              "      <td>0.256469</td>\n",
              "      <td>0.408103</td>\n",
              "      <td>0</td>\n",
              "    </tr>\n",
              "    <tr>\n",
              "      <th>499848</th>\n",
              "      <td>1</td>\n",
              "      <td>0</td>\n",
              "      <td>0</td>\n",
              "      <td>1</td>\n",
              "      <td>4</td>\n",
              "      <td>33</td>\n",
              "      <td>0</td>\n",
              "      <td>39</td>\n",
              "      <td>55</td>\n",
              "      <td>0</td>\n",
              "      <td>73</td>\n",
              "      <td>0</td>\n",
              "      <td>0</td>\n",
              "      <td>0</td>\n",
              "      <td>1</td>\n",
              "      <td>1</td>\n",
              "      <td>3</td>\n",
              "      <td>3</td>\n",
              "      <td>1</td>\n",
              "      <td>0.632996</td>\n",
              "      <td>0.317334</td>\n",
              "      <td>0.505100</td>\n",
              "      <td>0.647622</td>\n",
              "      <td>0.609719</td>\n",
              "      <td>0.418884</td>\n",
              "      <td>0.197979</td>\n",
              "      <td>0.582092</td>\n",
              "      <td>0.491362</td>\n",
              "      <td>0.256088</td>\n",
              "      <td>0.694242</td>\n",
              "      <td>0</td>\n",
              "    </tr>\n",
              "    <tr>\n",
              "      <th>499849</th>\n",
              "      <td>0</td>\n",
              "      <td>14</td>\n",
              "      <td>0</td>\n",
              "      <td>0</td>\n",
              "      <td>9</td>\n",
              "      <td>31</td>\n",
              "      <td>4</td>\n",
              "      <td>4</td>\n",
              "      <td>38</td>\n",
              "      <td>0</td>\n",
              "      <td>72</td>\n",
              "      <td>0</td>\n",
              "      <td>1</td>\n",
              "      <td>0</td>\n",
              "      <td>0</td>\n",
              "      <td>1</td>\n",
              "      <td>0</td>\n",
              "      <td>1</td>\n",
              "      <td>1</td>\n",
              "      <td>0.537439</td>\n",
              "      <td>0.634041</td>\n",
              "      <td>0.630650</td>\n",
              "      <td>0.110706</td>\n",
              "      <td>0.798633</td>\n",
              "      <td>0.555948</td>\n",
              "      <td>0.550079</td>\n",
              "      <td>0.359688</td>\n",
              "      <td>0.292068</td>\n",
              "      <td>0.428951</td>\n",
              "      <td>0.308831</td>\n",
              "      <td>0</td>\n",
              "    </tr>\n",
              "    <tr>\n",
              "      <th>...</th>\n",
              "      <td>...</td>\n",
              "      <td>...</td>\n",
              "      <td>...</td>\n",
              "      <td>...</td>\n",
              "      <td>...</td>\n",
              "      <td>...</td>\n",
              "      <td>...</td>\n",
              "      <td>...</td>\n",
              "      <td>...</td>\n",
              "      <td>...</td>\n",
              "      <td>...</td>\n",
              "      <td>...</td>\n",
              "      <td>...</td>\n",
              "      <td>...</td>\n",
              "      <td>...</td>\n",
              "      <td>...</td>\n",
              "      <td>...</td>\n",
              "      <td>...</td>\n",
              "      <td>...</td>\n",
              "      <td>...</td>\n",
              "      <td>...</td>\n",
              "      <td>...</td>\n",
              "      <td>...</td>\n",
              "      <td>...</td>\n",
              "      <td>...</td>\n",
              "      <td>...</td>\n",
              "      <td>...</td>\n",
              "      <td>...</td>\n",
              "      <td>...</td>\n",
              "      <td>...</td>\n",
              "      <td>...</td>\n",
              "    </tr>\n",
              "    <tr>\n",
              "      <th>499993</th>\n",
              "      <td>0</td>\n",
              "      <td>13</td>\n",
              "      <td>5</td>\n",
              "      <td>0</td>\n",
              "      <td>4</td>\n",
              "      <td>45</td>\n",
              "      <td>0</td>\n",
              "      <td>19</td>\n",
              "      <td>48</td>\n",
              "      <td>0</td>\n",
              "      <td>164</td>\n",
              "      <td>0</td>\n",
              "      <td>0</td>\n",
              "      <td>0</td>\n",
              "      <td>1</td>\n",
              "      <td>3</td>\n",
              "      <td>1</td>\n",
              "      <td>3</td>\n",
              "      <td>1</td>\n",
              "      <td>0.681700</td>\n",
              "      <td>0.500730</td>\n",
              "      <td>0.662428</td>\n",
              "      <td>0.671927</td>\n",
              "      <td>0.390566</td>\n",
              "      <td>0.145840</td>\n",
              "      <td>0.262767</td>\n",
              "      <td>0.514248</td>\n",
              "      <td>0.519340</td>\n",
              "      <td>0.617436</td>\n",
              "      <td>0.688007</td>\n",
              "      <td>0</td>\n",
              "    </tr>\n",
              "    <tr>\n",
              "      <th>499995</th>\n",
              "      <td>0</td>\n",
              "      <td>10</td>\n",
              "      <td>0</td>\n",
              "      <td>0</td>\n",
              "      <td>6</td>\n",
              "      <td>33</td>\n",
              "      <td>0</td>\n",
              "      <td>36</td>\n",
              "      <td>4</td>\n",
              "      <td>4</td>\n",
              "      <td>168</td>\n",
              "      <td>0</td>\n",
              "      <td>1</td>\n",
              "      <td>0</td>\n",
              "      <td>1</td>\n",
              "      <td>1</td>\n",
              "      <td>3</td>\n",
              "      <td>3</td>\n",
              "      <td>1</td>\n",
              "      <td>0.489226</td>\n",
              "      <td>0.790664</td>\n",
              "      <td>0.821657</td>\n",
              "      <td>0.620356</td>\n",
              "      <td>0.384891</td>\n",
              "      <td>0.735879</td>\n",
              "      <td>0.547731</td>\n",
              "      <td>0.726653</td>\n",
              "      <td>0.470575</td>\n",
              "      <td>0.275743</td>\n",
              "      <td>0.638939</td>\n",
              "      <td>0</td>\n",
              "    </tr>\n",
              "    <tr>\n",
              "      <th>499996</th>\n",
              "      <td>0</td>\n",
              "      <td>6</td>\n",
              "      <td>12</td>\n",
              "      <td>0</td>\n",
              "      <td>7</td>\n",
              "      <td>33</td>\n",
              "      <td>2</td>\n",
              "      <td>37</td>\n",
              "      <td>43</td>\n",
              "      <td>0</td>\n",
              "      <td>161</td>\n",
              "      <td>1</td>\n",
              "      <td>0</td>\n",
              "      <td>0</td>\n",
              "      <td>1</td>\n",
              "      <td>3</td>\n",
              "      <td>1</td>\n",
              "      <td>3</td>\n",
              "      <td>3</td>\n",
              "      <td>0.487882</td>\n",
              "      <td>0.522347</td>\n",
              "      <td>0.407037</td>\n",
              "      <td>0.232436</td>\n",
              "      <td>0.832482</td>\n",
              "      <td>0.810663</td>\n",
              "      <td>0.596939</td>\n",
              "      <td>0.308821</td>\n",
              "      <td>0.373997</td>\n",
              "      <td>0.518024</td>\n",
              "      <td>0.452144</td>\n",
              "      <td>1</td>\n",
              "    </tr>\n",
              "    <tr>\n",
              "      <th>499997</th>\n",
              "      <td>1</td>\n",
              "      <td>7</td>\n",
              "      <td>0</td>\n",
              "      <td>3</td>\n",
              "      <td>1</td>\n",
              "      <td>33</td>\n",
              "      <td>0</td>\n",
              "      <td>1</td>\n",
              "      <td>23</td>\n",
              "      <td>0</td>\n",
              "      <td>25</td>\n",
              "      <td>0</td>\n",
              "      <td>0</td>\n",
              "      <td>0</td>\n",
              "      <td>0</td>\n",
              "      <td>1</td>\n",
              "      <td>0</td>\n",
              "      <td>3</td>\n",
              "      <td>0</td>\n",
              "      <td>0.331900</td>\n",
              "      <td>0.812891</td>\n",
              "      <td>0.808045</td>\n",
              "      <td>0.630708</td>\n",
              "      <td>0.346898</td>\n",
              "      <td>0.735147</td>\n",
              "      <td>0.563488</td>\n",
              "      <td>0.609836</td>\n",
              "      <td>0.680430</td>\n",
              "      <td>0.318453</td>\n",
              "      <td>0.335822</td>\n",
              "      <td>0</td>\n",
              "    </tr>\n",
              "    <tr>\n",
              "      <th>499999</th>\n",
              "      <td>0</td>\n",
              "      <td>5</td>\n",
              "      <td>2</td>\n",
              "      <td>0</td>\n",
              "      <td>4</td>\n",
              "      <td>33</td>\n",
              "      <td>2</td>\n",
              "      <td>22</td>\n",
              "      <td>55</td>\n",
              "      <td>0</td>\n",
              "      <td>264</td>\n",
              "      <td>0</td>\n",
              "      <td>0</td>\n",
              "      <td>0</td>\n",
              "      <td>0</td>\n",
              "      <td>1</td>\n",
              "      <td>3</td>\n",
              "      <td>3</td>\n",
              "      <td>1</td>\n",
              "      <td>0.822600</td>\n",
              "      <td>0.819735</td>\n",
              "      <td>0.775451</td>\n",
              "      <td>0.848696</td>\n",
              "      <td>0.819377</td>\n",
              "      <td>0.355467</td>\n",
              "      <td>0.218153</td>\n",
              "      <td>0.968856</td>\n",
              "      <td>0.823655</td>\n",
              "      <td>0.330515</td>\n",
              "      <td>0.972569</td>\n",
              "      <td>0</td>\n",
              "    </tr>\n",
              "  </tbody>\n",
              "</table>\n",
              "<p>100 rows × 31 columns</p>\n",
              "</div>"
            ],
            "text/plain": [
              "        cat0  cat1  cat2  cat3  ...     cont8     cont9    cont10  target\n",
              "id                              ...                                      \n",
              "499844     0     1     3     0  ...  0.393892  0.516286  0.300021       0\n",
              "499846     1     7     0     1  ...  0.390248  0.446979  0.496481       0\n",
              "499847     0     8     2     0  ...  0.342924  0.256469  0.408103       0\n",
              "499848     1     0     0     1  ...  0.491362  0.256088  0.694242       0\n",
              "499849     0    14     0     0  ...  0.292068  0.428951  0.308831       0\n",
              "...      ...   ...   ...   ...  ...       ...       ...       ...     ...\n",
              "499993     0    13     5     0  ...  0.519340  0.617436  0.688007       0\n",
              "499995     0    10     0     0  ...  0.470575  0.275743  0.638939       0\n",
              "499996     0     6    12     0  ...  0.373997  0.518024  0.452144       1\n",
              "499997     1     7     0     3  ...  0.680430  0.318453  0.335822       0\n",
              "499999     0     5     2     0  ...  0.823655  0.330515  0.972569       0\n",
              "\n",
              "[100 rows x 31 columns]"
            ]
          },
          "metadata": {
            "tags": []
          }
        }
      ]
    },
    {
      "cell_type": "code",
      "metadata": {
        "id": "AxKl-kAHBfav",
        "colab": {
          "base_uri": "https://localhost:8080/",
          "height": 255
        },
        "outputId": "b58b0378-e004-4dc8-d021-d6a793363f80"
      },
      "source": [
        "display(test.tail())"
      ],
      "execution_count": 186,
      "outputs": [
        {
          "output_type": "display_data",
          "data": {
            "text/html": [
              "<div>\n",
              "<style scoped>\n",
              "    .dataframe tbody tr th:only-of-type {\n",
              "        vertical-align: middle;\n",
              "    }\n",
              "\n",
              "    .dataframe tbody tr th {\n",
              "        vertical-align: top;\n",
              "    }\n",
              "\n",
              "    .dataframe thead th {\n",
              "        text-align: right;\n",
              "    }\n",
              "</style>\n",
              "<table border=\"1\" class=\"dataframe\">\n",
              "  <thead>\n",
              "    <tr style=\"text-align: right;\">\n",
              "      <th></th>\n",
              "      <th>cat0</th>\n",
              "      <th>cat1</th>\n",
              "      <th>cat2</th>\n",
              "      <th>cat3</th>\n",
              "      <th>cat4</th>\n",
              "      <th>cat5</th>\n",
              "      <th>cat6</th>\n",
              "      <th>cat7</th>\n",
              "      <th>cat8</th>\n",
              "      <th>cat9</th>\n",
              "      <th>cat10</th>\n",
              "      <th>cat11</th>\n",
              "      <th>cat12</th>\n",
              "      <th>cat13</th>\n",
              "      <th>cat14</th>\n",
              "      <th>cat15</th>\n",
              "      <th>cat16</th>\n",
              "      <th>cat17</th>\n",
              "      <th>cat18</th>\n",
              "      <th>cont0</th>\n",
              "      <th>cont1</th>\n",
              "      <th>cont2</th>\n",
              "      <th>cont3</th>\n",
              "      <th>cont4</th>\n",
              "      <th>cont5</th>\n",
              "      <th>cont6</th>\n",
              "      <th>cont7</th>\n",
              "      <th>cont8</th>\n",
              "      <th>cont9</th>\n",
              "      <th>cont10</th>\n",
              "    </tr>\n",
              "    <tr>\n",
              "      <th>id</th>\n",
              "      <th></th>\n",
              "      <th></th>\n",
              "      <th></th>\n",
              "      <th></th>\n",
              "      <th></th>\n",
              "      <th></th>\n",
              "      <th></th>\n",
              "      <th></th>\n",
              "      <th></th>\n",
              "      <th></th>\n",
              "      <th></th>\n",
              "      <th></th>\n",
              "      <th></th>\n",
              "      <th></th>\n",
              "      <th></th>\n",
              "      <th></th>\n",
              "      <th></th>\n",
              "      <th></th>\n",
              "      <th></th>\n",
              "      <th></th>\n",
              "      <th></th>\n",
              "      <th></th>\n",
              "      <th></th>\n",
              "      <th></th>\n",
              "      <th></th>\n",
              "      <th></th>\n",
              "      <th></th>\n",
              "      <th></th>\n",
              "      <th></th>\n",
              "      <th></th>\n",
              "    </tr>\n",
              "  </thead>\n",
              "  <tbody>\n",
              "    <tr>\n",
              "      <th>499983</th>\n",
              "      <td>0</td>\n",
              "      <td>13</td>\n",
              "      <td>0</td>\n",
              "      <td>3</td>\n",
              "      <td>5</td>\n",
              "      <td>33</td>\n",
              "      <td>0</td>\n",
              "      <td>6</td>\n",
              "      <td>23</td>\n",
              "      <td>0</td>\n",
              "      <td>79</td>\n",
              "      <td>0</td>\n",
              "      <td>0</td>\n",
              "      <td>0</td>\n",
              "      <td>1</td>\n",
              "      <td>3</td>\n",
              "      <td>1</td>\n",
              "      <td>2</td>\n",
              "      <td>1</td>\n",
              "      <td>0.451496</td>\n",
              "      <td>0.361426</td>\n",
              "      <td>0.351946</td>\n",
              "      <td>0.327670</td>\n",
              "      <td>0.205547</td>\n",
              "      <td>0.679195</td>\n",
              "      <td>0.485967</td>\n",
              "      <td>0.319130</td>\n",
              "      <td>0.520681</td>\n",
              "      <td>0.519545</td>\n",
              "      <td>0.427119</td>\n",
              "    </tr>\n",
              "    <tr>\n",
              "      <th>499984</th>\n",
              "      <td>1</td>\n",
              "      <td>8</td>\n",
              "      <td>0</td>\n",
              "      <td>1</td>\n",
              "      <td>4</td>\n",
              "      <td>33</td>\n",
              "      <td>0</td>\n",
              "      <td>19</td>\n",
              "      <td>55</td>\n",
              "      <td>4</td>\n",
              "      <td>186</td>\n",
              "      <td>0</td>\n",
              "      <td>0</td>\n",
              "      <td>0</td>\n",
              "      <td>1</td>\n",
              "      <td>1</td>\n",
              "      <td>3</td>\n",
              "      <td>3</td>\n",
              "      <td>1</td>\n",
              "      <td>0.862988</td>\n",
              "      <td>0.551106</td>\n",
              "      <td>0.628843</td>\n",
              "      <td>0.677765</td>\n",
              "      <td>0.624935</td>\n",
              "      <td>0.555306</td>\n",
              "      <td>0.242424</td>\n",
              "      <td>0.700829</td>\n",
              "      <td>0.531728</td>\n",
              "      <td>0.528427</td>\n",
              "      <td>0.922645</td>\n",
              "    </tr>\n",
              "    <tr>\n",
              "      <th>499987</th>\n",
              "      <td>0</td>\n",
              "      <td>11</td>\n",
              "      <td>3</td>\n",
              "      <td>0</td>\n",
              "      <td>7</td>\n",
              "      <td>33</td>\n",
              "      <td>0</td>\n",
              "      <td>14</td>\n",
              "      <td>47</td>\n",
              "      <td>0</td>\n",
              "      <td>177</td>\n",
              "      <td>0</td>\n",
              "      <td>0</td>\n",
              "      <td>0</td>\n",
              "      <td>1</td>\n",
              "      <td>3</td>\n",
              "      <td>1</td>\n",
              "      <td>3</td>\n",
              "      <td>1</td>\n",
              "      <td>0.463067</td>\n",
              "      <td>0.812384</td>\n",
              "      <td>0.803348</td>\n",
              "      <td>0.324762</td>\n",
              "      <td>0.665624</td>\n",
              "      <td>0.488447</td>\n",
              "      <td>0.853213</td>\n",
              "      <td>0.578641</td>\n",
              "      <td>0.811941</td>\n",
              "      <td>0.537106</td>\n",
              "      <td>0.531758</td>\n",
              "    </tr>\n",
              "    <tr>\n",
              "      <th>499994</th>\n",
              "      <td>0</td>\n",
              "      <td>10</td>\n",
              "      <td>0</td>\n",
              "      <td>2</td>\n",
              "      <td>5</td>\n",
              "      <td>33</td>\n",
              "      <td>0</td>\n",
              "      <td>43</td>\n",
              "      <td>38</td>\n",
              "      <td>0</td>\n",
              "      <td>168</td>\n",
              "      <td>0</td>\n",
              "      <td>0</td>\n",
              "      <td>0</td>\n",
              "      <td>0</td>\n",
              "      <td>1</td>\n",
              "      <td>3</td>\n",
              "      <td>3</td>\n",
              "      <td>1</td>\n",
              "      <td>0.519671</td>\n",
              "      <td>0.811282</td>\n",
              "      <td>0.820635</td>\n",
              "      <td>0.561449</td>\n",
              "      <td>0.797434</td>\n",
              "      <td>0.555089</td>\n",
              "      <td>0.746532</td>\n",
              "      <td>0.369986</td>\n",
              "      <td>0.438712</td>\n",
              "      <td>0.715524</td>\n",
              "      <td>0.381978</td>\n",
              "    </tr>\n",
              "    <tr>\n",
              "      <th>499998</th>\n",
              "      <td>0</td>\n",
              "      <td>10</td>\n",
              "      <td>0</td>\n",
              "      <td>0</td>\n",
              "      <td>4</td>\n",
              "      <td>33</td>\n",
              "      <td>2</td>\n",
              "      <td>15</td>\n",
              "      <td>38</td>\n",
              "      <td>7</td>\n",
              "      <td>73</td>\n",
              "      <td>0</td>\n",
              "      <td>1</td>\n",
              "      <td>0</td>\n",
              "      <td>0</td>\n",
              "      <td>1</td>\n",
              "      <td>1</td>\n",
              "      <td>1</td>\n",
              "      <td>1</td>\n",
              "      <td>0.498328</td>\n",
              "      <td>0.336168</td>\n",
              "      <td>0.270483</td>\n",
              "      <td>0.581868</td>\n",
              "      <td>0.218993</td>\n",
              "      <td>0.553284</td>\n",
              "      <td>0.565213</td>\n",
              "      <td>0.378355</td>\n",
              "      <td>0.547927</td>\n",
              "      <td>0.273595</td>\n",
              "      <td>0.448016</td>\n",
              "    </tr>\n",
              "  </tbody>\n",
              "</table>\n",
              "</div>"
            ],
            "text/plain": [
              "        cat0  cat1  cat2  cat3  ...     cont7     cont8     cont9    cont10\n",
              "id                              ...                                        \n",
              "499983     0    13     0     3  ...  0.319130  0.520681  0.519545  0.427119\n",
              "499984     1     8     0     1  ...  0.700829  0.531728  0.528427  0.922645\n",
              "499987     0    11     3     0  ...  0.578641  0.811941  0.537106  0.531758\n",
              "499994     0    10     0     2  ...  0.369986  0.438712  0.715524  0.381978\n",
              "499998     0    10     0     0  ...  0.378355  0.547927  0.273595  0.448016\n",
              "\n",
              "[5 rows x 30 columns]"
            ]
          },
          "metadata": {
            "tags": []
          }
        }
      ]
    },
    {
      "cell_type": "code",
      "metadata": {
        "id": "q7BomEcWhKlM"
      },
      "source": [
        "target = train.pop('target')"
      ],
      "execution_count": 187,
      "outputs": []
    },
    {
      "cell_type": "code",
      "metadata": {
        "id": "3x5PtC5lYald",
        "colab": {
          "base_uri": "https://localhost:8080/",
          "height": 235
        },
        "outputId": "265c6b14-e761-4993-82d4-5e935893a112"
      },
      "source": [
        "submission = pd.read_csv(input_path / 'sample_submission.csv', index_col='id')\n",
        "display(submission.head())"
      ],
      "execution_count": 188,
      "outputs": [
        {
          "output_type": "display_data",
          "data": {
            "text/html": [
              "<div>\n",
              "<style scoped>\n",
              "    .dataframe tbody tr th:only-of-type {\n",
              "        vertical-align: middle;\n",
              "    }\n",
              "\n",
              "    .dataframe tbody tr th {\n",
              "        vertical-align: top;\n",
              "    }\n",
              "\n",
              "    .dataframe thead th {\n",
              "        text-align: right;\n",
              "    }\n",
              "</style>\n",
              "<table border=\"1\" class=\"dataframe\">\n",
              "  <thead>\n",
              "    <tr style=\"text-align: right;\">\n",
              "      <th></th>\n",
              "      <th>target</th>\n",
              "    </tr>\n",
              "    <tr>\n",
              "      <th>id</th>\n",
              "      <th></th>\n",
              "    </tr>\n",
              "  </thead>\n",
              "  <tbody>\n",
              "    <tr>\n",
              "      <th>5</th>\n",
              "      <td>0.5</td>\n",
              "    </tr>\n",
              "    <tr>\n",
              "      <th>6</th>\n",
              "      <td>0.5</td>\n",
              "    </tr>\n",
              "    <tr>\n",
              "      <th>8</th>\n",
              "      <td>0.5</td>\n",
              "    </tr>\n",
              "    <tr>\n",
              "      <th>9</th>\n",
              "      <td>0.5</td>\n",
              "    </tr>\n",
              "    <tr>\n",
              "      <th>11</th>\n",
              "      <td>0.5</td>\n",
              "    </tr>\n",
              "  </tbody>\n",
              "</table>\n",
              "</div>"
            ],
            "text/plain": [
              "    target\n",
              "id        \n",
              "5      0.5\n",
              "6      0.5\n",
              "8      0.5\n",
              "9      0.5\n",
              "11     0.5"
            ]
          },
          "metadata": {
            "tags": []
          }
        }
      ]
    },
    {
      "cell_type": "code",
      "metadata": {
        "id": "W-qltLVcfcIl",
        "colab": {
          "base_uri": "https://localhost:8080/"
        },
        "outputId": "7c8ed3c7-4519-4a5f-8ada-caec910713df"
      },
      "source": [
        "print(train.shape)\n",
        "print(test.shape)\n",
        "print(target.shape)"
      ],
      "execution_count": 189,
      "outputs": [
        {
          "output_type": "stream",
          "text": [
            "(300000, 30)\n",
            "(200000, 30)\n",
            "(300000,)\n"
          ],
          "name": "stdout"
        }
      ]
    },
    {
      "cell_type": "code",
      "metadata": {
        "id": "iJm8oW4DqJlW"
      },
      "source": [
        "#train.to_csv('train.csv')\n",
        "#test.to_csv('test.csv')\n",
        "#target.to_csv('target.csv')"
      ],
      "execution_count": 190,
      "outputs": []
    },
    {
      "cell_type": "code",
      "metadata": {
        "id": "tSNHCONk1hKP"
      },
      "source": [
        "#train = pd.read_csv(input_path / 'train2.csv', index_col='id')\n",
        "#test = pd.read_csv(input_path / 'test2.csv', index_col='id')\n",
        "#target = pd.read_csv(input_path / 'target.csv', index_col='id')\n",
        "#feature_importances_name = pd.read_csv(input_path / 'feature_importances_name.csv')\n",
        "#print(train.shape)\n",
        "#print(test.shape)\n",
        "#print(target.shape)"
      ],
      "execution_count": 191,
      "outputs": []
    },
    {
      "cell_type": "code",
      "metadata": {
        "id": "XCBPBJWT4WqI"
      },
      "source": [
        "#display(train.head())\n",
        "#display(test.head())"
      ],
      "execution_count": 192,
      "outputs": []
    },
    {
      "cell_type": "code",
      "metadata": {
        "id": "k_WJxp1slWT2"
      },
      "source": [
        "#oof_preds_tabnet = np.loadtxt('/content/drive/MyDrive/Kaggle/Tabular_Playground_Series_-_Feb_2021/Result/20210227_11:22_Model_TabNet/oof_preds.csv', delimiter=',')\n",
        "#test_preds_tabnet = np.loadtxt('/content/drive/MyDrive/Kaggle/Tabular_Playground_Series_-_Feb_2021/Result/20210227_11:22_Model_TabNet/test_preds.csv', delimiter=',')\n",
        "#results_tabnet = np.loadtxt('/content/drive/MyDrive/Kaggle/Tabular_Playground_Series_-_Feb_2021/Result/20210227_11:22_Model_TabNet/results.csv', delimiter=',')\n",
        "#oof_preds_lightGBM = np.loadtxt('/content/drive/MyDrive/Kaggle/Tabular_Playground_Series_-_Feb_2021/Result/20210227_21:09_Model_LightGBMwithCats/oof_preds.csv', delimiter=',')\n",
        "#test_preds_lightGBM = np.loadtxt('/content/drive/MyDrive/Kaggle/Tabular_Playground_Series_-_Feb_2021/Result/20210227_21:09_Model_LightGBMwithCats/test_preds.csv', delimiter=',')\n",
        "#results_lightGBM = np.loadtxt('/content/drive/MyDrive/Kaggle/Tabular_Playground_Series_-_Feb_2021/Result/20210227_21:09_Model_LightGBMwithCats/results.csv', delimiter=',')"
      ],
      "execution_count": 193,
      "outputs": []
    },
    {
      "cell_type": "code",
      "metadata": {
        "id": "6Y4DdbDPm09R"
      },
      "source": [
        "#print(oof_preds_tabnet.shape)\n",
        "#print(test_preds_tabnet.shape)\n",
        "#print(results_tabnet.shape)\n",
        "#print(oof_preds_lightGBM.shape)\n",
        "#print(test_preds_lightGBM.shape)\n",
        "#print(results_lightGBM.shape)"
      ],
      "execution_count": 194,
      "outputs": []
    },
    {
      "cell_type": "code",
      "metadata": {
        "id": "TPl3Ey_jnOJK"
      },
      "source": [
        "#tmp_train = pd.DataFrame(data=None, index=train.index, columns=None, dtype=None, copy=False)\n",
        "#tmp_test = pd.DataFrame(data=None, index=test.index, columns=None, dtype=None, copy=False)\n",
        "#results = pd.DataFrame(data=None, index=None, columns=None, dtype=None, copy=False)"
      ],
      "execution_count": 195,
      "outputs": []
    },
    {
      "cell_type": "code",
      "metadata": {
        "id": "WHFzLrb5sF4-"
      },
      "source": [
        "#for i in range(oof_preds_lightGBM.shape[1]):\n",
        "#    name = 'lightGBM_' + str(i)\n",
        "#    train[name] = oof_preds_lightGBM[:,i]\n",
        "#    test[name] = test_preds_lightGBM[:,i]\n",
        "#    results[name] = [results_lightGBM[i,1]]"
      ],
      "execution_count": 196,
      "outputs": []
    },
    {
      "cell_type": "code",
      "metadata": {
        "id": "LCMTUW0KVzJX"
      },
      "source": [
        "#results.sort_values(by=0, axis=1, inplace=True)"
      ],
      "execution_count": 197,
      "outputs": []
    },
    {
      "cell_type": "code",
      "metadata": {
        "id": "HmoZE39xV2du"
      },
      "source": [
        "#for i in range(80):\n",
        "#    name = results.columns[i]\n",
        "#    tmp_train[name] = train[name]\n",
        "#    tmp_test[name] =test[name]"
      ],
      "execution_count": 198,
      "outputs": []
    },
    {
      "cell_type": "code",
      "metadata": {
        "id": "S3qkKqwun11v"
      },
      "source": [
        "#for i in range(oof_preds_tabnet.shape[1]):\n",
        "#    name = 'tabnet_' + str(i)\n",
        "#    tmp_train[name] = oof_preds_tabnet[:,i]\n",
        "#    tmp_test[name] = test_preds_tabnet[:,i]\n",
        "#    results[name] = [results_tabnet[i,1]]"
      ],
      "execution_count": 199,
      "outputs": []
    },
    {
      "cell_type": "code",
      "metadata": {
        "id": "dRzVN1jTVTYv"
      },
      "source": [
        "#for i in range(oof_preds_tabnet.shape[1]):\n",
        "#    name = 'tabnet_' + str(i)\n",
        "#    train[name] = oof_preds_tabnet[:,i]\n",
        "#    test[name] = test_preds_tabnet[:,i]\n",
        "#    results[name] = [results_tabnet[i,1]]"
      ],
      "execution_count": 200,
      "outputs": []
    },
    {
      "cell_type": "code",
      "metadata": {
        "id": "bdR5dauPufwN"
      },
      "source": [
        "#results.sort_values(by=0, axis=1, inplace=True)"
      ],
      "execution_count": 201,
      "outputs": []
    },
    {
      "cell_type": "code",
      "metadata": {
        "id": "VZ51sliOo4t9"
      },
      "source": [
        "#train.head()"
      ],
      "execution_count": 202,
      "outputs": []
    },
    {
      "cell_type": "code",
      "metadata": {
        "id": "V0hnEQNoo8qi"
      },
      "source": [
        "#test.head()"
      ],
      "execution_count": 203,
      "outputs": []
    },
    {
      "cell_type": "code",
      "metadata": {
        "id": "BKb2CKwVo-2v"
      },
      "source": [
        "#results.head()"
      ],
      "execution_count": 204,
      "outputs": []
    },
    {
      "cell_type": "code",
      "metadata": {
        "id": "6pa6rmwHshLf"
      },
      "source": [
        "#train = tmp_train\n",
        "#test = tmp_test"
      ],
      "execution_count": 205,
      "outputs": []
    },
    {
      "cell_type": "code",
      "metadata": {
        "id": "YC6Kls1dswvo"
      },
      "source": [
        "#print(train.shape)\n",
        "#print(test.shape)\n",
        "#print(target.shape)"
      ],
      "execution_count": 206,
      "outputs": []
    },
    {
      "cell_type": "markdown",
      "metadata": {
        "id": "GKC0s-f1m7y2"
      },
      "source": [
        "**---------- Model ----------**"
      ]
    },
    {
      "cell_type": "code",
      "metadata": {
        "id": "_MtG1o6KnAKg"
      },
      "source": [
        "class Model:\n",
        "    def __init__(self, model=None):\n",
        "        self.model = model\n",
        "\n",
        "    #def set_params(self, **params):\n",
        "    #    self.params = params\n",
        "    #    _ = self.model.set_params(**params)\n",
        "    \n",
        "    def get_params(self):\n",
        "        return self.params\n",
        "\n",
        "    def set_model(self, model):\n",
        "        self.model = model\n",
        "\n",
        "    def get_model(self):\n",
        "        return self.model\n",
        "    \n",
        "    def fit(self, X, Y):\n",
        "        self.model.fit(X ,Y)\n",
        "\n",
        "    def predict(self, X):\n",
        "        return self.model.predict(X)"
      ],
      "execution_count": 207,
      "outputs": []
    },
    {
      "cell_type": "code",
      "metadata": {
        "id": "rC_82Z9qoFP1"
      },
      "source": [
        "class Model_DummyRegressor(Model):\n",
        "    def __init__(self):\n",
        "        self.model = DummyRegressor()\n",
        "\n",
        "    def reset_model(self,**params):\n",
        "        del self.model\n",
        "        self.model = DummyRegressor(**params)"
      ],
      "execution_count": 208,
      "outputs": []
    },
    {
      "cell_type": "code",
      "metadata": {
        "id": "i_E1mW26E4BS"
      },
      "source": [
        "#DummyRegressor\n",
        "params_DummyRegressor = {\n",
        "    'strategy': hp.choice('strategy', ['median', 'mean']), \n",
        "}"
      ],
      "execution_count": 209,
      "outputs": []
    },
    {
      "cell_type": "code",
      "metadata": {
        "id": "cFfc95bL5FC1"
      },
      "source": [
        "class Model_LinearRegression(Model):\n",
        "    def __init__(self):\n",
        "        self.model = LinearRegression()\n",
        "\n",
        "    def reset_model(self,**params):\n",
        "        del self.model\n",
        "        self.model = LinearRegression(**params)\n",
        "\n",
        "    def predict(self, X):\n",
        "        return self.model.predict(X)[:,-1]"
      ],
      "execution_count": 210,
      "outputs": []
    },
    {
      "cell_type": "code",
      "metadata": {
        "id": "pDjYMNwT5kY6"
      },
      "source": [
        "#Model_LinearRegression\n",
        "params_LinearRegression = {\n",
        "    \"normalize\": True,\n",
        "}"
      ],
      "execution_count": 211,
      "outputs": []
    },
    {
      "cell_type": "code",
      "metadata": {
        "id": "A40JfduxytIg"
      },
      "source": [
        "class Model_XGB(Model):\n",
        "    def __init__(self):\n",
        "        self.model = xgb.XGBRegressor()\n",
        "\n",
        "    def reset_model(self, **params):\n",
        "        del self.model\n",
        "        tmp_params = params\n",
        "        tmp_params['max_depth']=int(tmp_params['max_depth'])\n",
        "        tmp_params['n_estimators']=int(tmp_params['n_estimators'])\n",
        "        self.params = tmp_params\n",
        "        self.model = xgb.XGBRegressor(**tmp_params)\n",
        "\n",
        "    def fit(self, X, Y, VX, VY):\n",
        "        eval_set = [(VX, VY)]\n",
        "        self.model.fit(X ,Y, eval_metric=\"rmse\", eval_set=eval_set, verbose=True)"
      ],
      "execution_count": 212,
      "outputs": []
    },
    {
      "cell_type": "code",
      "metadata": {
        "id": "6YOohLSByfhN"
      },
      "source": [
        "XGB_params_space = {\n",
        "    'max_depth':hp.quniform('max_depth',3,15,1),\n",
        "    'gamma':hp.loguniform('gamma',np.log(0.0000001),np.log(10.0)),\n",
        "    'min_child_weight':hp.loguniform('min_child_weight',np.log(0.01),np.log(100.0)),\n",
        "    'colsample_bytree':hp.uniform('colsample_bytree',0.6,0.95),\n",
        "    'subsample':hp.uniform('subsample',0.6,0.95),\n",
        "    'learning_rate':hp.loguniform('learning_rate',np.log(0.01),np.log(1.0)),\n",
        "    'n_estimators':hp.quniform('n_estimators',32,256,32),\n",
        "    'max_delta_step':hp.loguniform('max_delta_step',np.log(0.01),np.log(10.0)),\n",
        "}"
      ],
      "execution_count": 213,
      "outputs": []
    },
    {
      "cell_type": "code",
      "metadata": {
        "id": "Dr-ld1dVFNeq"
      },
      "source": [
        "class Model_LightGBM(Model):\n",
        "    def __init__(self):\n",
        "        self.model = lgb.LGBMRegressor()\n",
        "\n",
        "    def reset_model(self, **params):\n",
        "        del self.model\n",
        "        tmp_params = params\n",
        "        #tmp_params['max_depth']=int(tmp_params['max_depth'])\n",
        "        tmp_params['num_leaves']=int(tmp_params['num_leaves'])\n",
        "        tmp_params['min_child_samples']=int(tmp_params['min_child_samples'])\n",
        "        tmp_params['min_data_per_group']=int(tmp_params['min_data_per_group'])\n",
        "        tmp_params['n_estimators']=100000\n",
        "        if not 'random_state' in LightBGM_params:\n",
        "            tmp_params['random_state']=21\n",
        "        self.params = tmp_params\n",
        "        self.model = lgb.LGBMRegressor(**tmp_params)\n",
        "\n",
        "    def fit(self, X, Y, VX, VY):        \n",
        "        eval_set = [(VX, VY)]\n",
        "        self.model.fit(X ,Y, eval_metric=\"rmse\", eval_set=eval_set, verbose=False, early_stopping_rounds=10)"
      ],
      "execution_count": 214,
      "outputs": []
    },
    {
      "cell_type": "code",
      "metadata": {
        "id": "KN-O9aVqF1AI"
      },
      "source": [
        "LightBGM_params_space = {\n",
        "    #'learning_rate':hp.loguniform('learning_rate',np.log(0.001),np.log(0.1)),\n",
        "    'learning_rate':hp.loguniform('learning_rate',np.log(0.01),np.log(0.1)),\n",
        "    'min_child_weight':hp.loguniform('min_child_weight',np.log(0.0001),np.log(1.0)),\n",
        "    #'max_depth':hp.quniform('max_depth',3,15,1),\n",
        "    #'num_leaves':hp.quniform('num_leaves',20,50,1),\n",
        "    'num_leaves':hp.quniform('num_leaves',50,255,5),\n",
        "    'min_child_samples':hp.quniform('min_child_samples',10,30,1),\n",
        "    'reg_alpha':hp.uniform('reg_alpha',0.0,5.0),\n",
        "    'reg_lambda':hp.uniform('reg_lambda',0.0,5.0),\n",
        "    #'boosting_type': hp.choice('boosting_type', ['gbdt', 'dart', 'goss', 'rf']), \n",
        "    #'cat_smooth': hp.choice('cat_smooth', [200, 400, 600, 800, 1000]), \n",
        "    'min_data_per_group':hp.quniform('min_data_per_group',200,1000,200),\n",
        "    #'min_data_per_group': hp.choice('min_data_per_group', [200, 400, 600, 800, 1000]), \n",
        "}"
      ],
      "execution_count": 215,
      "outputs": []
    },
    {
      "cell_type": "code",
      "metadata": {
        "id": "zoTQ64ezdRUN"
      },
      "source": [
        "LightBGM_params = {\n",
        "    \"learning_rate\": 0.023138520618280357,\n",
        "    \"min_child_samples\": 21,\n",
        "    \"min_child_weight\": 0.007646593938515828,\n",
        "    \"num_leaves\": 210,\n",
        "    \"reg_alpha\": 4.841326955256633,\n",
        "    \"reg_lambda\": 2.3605570451667712,\n",
        "    \"n_estimators\": 10000\n",
        "}"
      ],
      "execution_count": 216,
      "outputs": []
    },
    {
      "cell_type": "code",
      "metadata": {
        "id": "6Hrow-AqB0V1"
      },
      "source": [
        "class Model_LightGBMwithCats(Model):\n",
        "    def __init__(self):\n",
        "        self.model = None\n",
        "\n",
        "    def reset_model(self, **params):\n",
        "        tmp_params = params\n",
        "        tmp_params['max_depth']=int(tmp_params['max_depth'])\n",
        "        tmp_params['num_leaves']=int(tmp_params['num_leaves'])\n",
        "        tmp_params['min_child_samples']=int(tmp_params['min_child_samples'])\n",
        "        tmp_params['cat_smooth']=int(tmp_params['cat_smooth'])\n",
        "        tmp_params['min_data_per_group']=int(tmp_params['min_data_per_group'])\n",
        "        tmp_params['max_bin']=int(tmp_params['max_bin'])\n",
        "        tmp_params['bagging_freq']=int(tmp_params['bagging_freq'])\n",
        "        tmp_params['n_estimators']=10000\n",
        "        if not 'random_state' in params:\n",
        "            tmp_params['random_state']=21\n",
        "        #tmp_params['objective'] = 'binary' \n",
        "        tmp_params['objective'] = 'cross_entropy' \n",
        "        tmp_params['boosting'] = 'gbdt'\n",
        "        tmp_params['metric']= 'auc'\n",
        "        self.params = tmp_params\n",
        "\n",
        "    def fit(self, X, Y, VX, VY):\n",
        "        cats = [c for c in X.columns if X[c].dtypes=='object']\n",
        "        trn_data = lgb.Dataset(X, label=Y, categorical_feature=cats) #-------> Specify Categorical feature for lgb\n",
        "        val_data= lgb.Dataset(VX, label=VY, categorical_feature=cats)  #-------> Specify Categorical feature for lgb\n",
        "        logger.info(f'')\n",
        "        callbacks = [log_evaluation(logger, period=500)]\n",
        "        self.model = lgb.train(self.params, trn_data, num_boost_round=10000, valid_sets=(trn_data, val_data), verbose_eval=500, early_stopping_rounds=150, callbacks=callbacks)\n",
        "        #return self.model"
      ],
      "execution_count": 217,
      "outputs": []
    },
    {
      "cell_type": "code",
      "metadata": {
        "id": "OQRfBdxbCyZa"
      },
      "source": [
        "LightBGMwithCats_params_space = {\n",
        "    'learning_rate':hp.loguniform('learning_rate',np.log(0.01),np.log(0.1)),\n",
        "    'min_child_weight':hp.loguniform('min_child_weight',np.log(0.0001),np.log(1.0)),\n",
        "    'max_depth':hp.quniform('max_depth',15,50,5),\n",
        "    'num_leaves':hp.quniform('num_leaves',10,255,5),\n",
        "    'min_child_samples':hp.quniform('min_child_samples',10,400,10),\n",
        "    'bagging_fraction':hp.uniform('bagging_fraction',0.0,1.0),\n",
        "    'feature_fraction':hp.uniform('feature_fraction',0.0,1.0),\n",
        "    'reg_alpha':hp.uniform('reg_alpha',0.0,10.0),\n",
        "    'reg_lambda':hp.uniform('reg_lambda',0.0,5.0),\n",
        "    #'cat_smooth': hp.choice('cat_smooth', [20, 40, 60, 80, 100]), \n",
        "    'cat_smooth':hp.quniform('cat_smooth',20,100,20),\n",
        "    #'min_data_per_group': hp.choice('min_data_per_group', [50, 100, 150, 200, 400]), \n",
        "    'min_data_per_group':hp.quniform('min_data_per_group',50,400,50),\n",
        "    #'max_bin': hp.choice('max_bin', [255, 512, 768, 1024]), \n",
        "    'max_bin':hp.quniform('max_bin',256,1024,256),\n",
        "    #'bagging_freq': hp.choice('bagging_freq', [0, 1, 2]), \n",
        "    'bagging_freq':hp.quniform('bagging_freq',0,2,1),\n",
        "    'cat_l2':hp.uniform('cat_l2',5.0,20.0),\n",
        "}"
      ],
      "execution_count": 218,
      "outputs": []
    },
    {
      "cell_type": "code",
      "metadata": {
        "id": "nsl6D4L7sdi9"
      },
      "source": [
        "LightBGMwithCats_params = {\n",
        "    'bagging_fraction': 0.1503803121189603,\n",
        "    'bagging_freq': 0,\n",
        "    'cat_l2': 12.024652812661973,\n",
        "    'cat_smooth': 20,\n",
        "    'feature_fraction': 0.5258958821095127,\n",
        "    'learning_rate': 0.012471775401669568,\n",
        "    'max_bin': 512,\n",
        "    'max_depth': 20.0,\n",
        "    'min_child_samples': 310.0,\n",
        "    'min_child_weight': 0.00010081203879532794,\n",
        "    'min_data_per_group': 200,\n",
        "    'num_leaves': 10.0,\n",
        "    'reg_alpha': 5.816338858061907,\n",
        "    'reg_lambda': 3.8323711324849565\n",
        "}"
      ],
      "execution_count": 219,
      "outputs": []
    },
    {
      "cell_type": "code",
      "metadata": {
        "id": "o3JGHS_MUaPh"
      },
      "source": [
        "class Model_CatBoost(Model):\n",
        "    def __init__(self):\n",
        "        self.model = cb.CatBoostClassifier()\n",
        "\n",
        "    def reset_model(self, **params):\n",
        "        del self.model\n",
        "        tmp_params = params\n",
        "        tmp_params['depth']=int(tmp_params['depth'])\n",
        "        tmp_params['od_wait']=int(tmp_params['od_wait'])\n",
        "        tmp_params['allow_writing_files'] = False\n",
        "        tmp_params['od_type'] = 'Iter'\n",
        "        tmp_params['silent'] = False\n",
        "        tmp_params['eval_metric'] = 'AUC'\n",
        "        tmp_params['loss_function']=\"Logloss\"\n",
        "        #tmp_params['iterations']=int(tmp_params['iterations'])\n",
        "        tmp_params['iterations'] = 10000\n",
        "        tmp_params['task_type']=\"GPU\"\n",
        "        self.params = tmp_params\n",
        "        self.model = cb.CatBoostClassifier(**tmp_params)\n",
        "\n",
        "    def fit(self, X, Y, VX, VY):\n",
        "        eval_set = [(VX, VY)]\n",
        "        categorical_features_indices = np.where(X.dtypes == 'object')[0]\n",
        "        self.model.fit(\n",
        "            X, Y,\n",
        "            #eval_metric=\"rmse\",\n",
        "            cat_features=categorical_features_indices,\n",
        "            eval_set=eval_set,\n",
        "            verbose=100,\n",
        "            early_stopping_rounds=100\n",
        "        )\n",
        "\n",
        "    def predict(self, X):\n",
        "        return self.model.predict_proba(X)"
      ],
      "execution_count": 220,
      "outputs": []
    },
    {
      "cell_type": "code",
      "metadata": {
        "id": "1wtv9GwgWQWa"
      },
      "source": [
        "CatBoost_params_space = {\n",
        "    'learning_rate':hp.loguniform('learning_rate',np.log(0.01),np.log(0.1)),\n",
        "    #'learning_rate':hp.uniform('learning_rate',0.01,0.05),\n",
        "    #'iterations':hp.quniform('iterations',1000,10000,1000),\n",
        "    'bagging_temperature':hp.uniform('bagging_temperature',0.0,1.0),\n",
        "    'depth':hp.quniform('depth',6,10,1),\n",
        "    #'depth':hp.quniform('depth',4,6,1),\n",
        "    'od_wait':hp.quniform('od_wait',10,30,5),\n",
        "    #'od_wait':hp.quniform('od_wait',5,10,1),\n",
        "}"
      ],
      "execution_count": 221,
      "outputs": []
    },
    {
      "cell_type": "code",
      "metadata": {
        "id": "2T46RbkeNpLF"
      },
      "source": [
        "class Model_TabNet(Model):\n",
        "    def __init__(self):\n",
        "        self.model = TabNetRegressor()\n",
        "\n",
        "    def reset_model(self, **params):\n",
        "        del self.model\n",
        "\n",
        "        tmp_params = params\n",
        "        tmp_params['n_d'] = int(tmp_params['n_d'])\n",
        "        tmp_params['n_steps'] = int(tmp_params['n_steps'])\n",
        "        tmp_params['n_a'] = tmp_params['n_d']\n",
        "        if not 'seed' in params:\n",
        "            tmp_params['seed']=21\n",
        "        self.params = tmp_params\n",
        "        self.model = TabNetRegressor(**tmp_params)\n",
        "\n",
        "    def predict(self, X):\n",
        "        X = X.values\n",
        "        return self.model.predict(X)[:,-1]\n",
        "\n",
        "    def fit(self, X, Y, VX, VY):\n",
        "        X = X.values\n",
        "        Y = Y.values.reshape(-1, 1)\n",
        "        VX = VX.values\n",
        "        VY = VY.values.reshape(-1, 1)\n",
        "\n",
        "        eval_set = [(VX, VY)]\n",
        "\n",
        "        self.model.fit(\n",
        "            X_train=X,\n",
        "            y_train=Y,\n",
        "            eval_set=eval_set,\n",
        "            eval_name = [\"val\"],\n",
        "            eval_metric = [\"rmse\"],\n",
        "            max_epochs=400,\n",
        "            patience=20,\n",
        "            #max_epochs=4,\n",
        "            #patience=2,\n",
        "            #patience=50,\n",
        "            batch_size=1024, virtual_batch_size=128,\n",
        "            num_workers=16,\n",
        "            drop_last=False,\n",
        "            loss_fn=nn.MSELoss()\n",
        "        )"
      ],
      "execution_count": 222,
      "outputs": []
    },
    {
      "cell_type": "code",
      "metadata": {
        "id": "su5fvqcUNJSP"
      },
      "source": [
        "TabNet_params_space ={\n",
        "    'n_d':hp.quniform('n_d',16,32,2),\n",
        "    #'n_a':n_d,\n",
        "    'n_steps':hp.quniform('n_steps',1,3,1),\n",
        "    #'n_steps':1,\n",
        "    'gamma':hp.uniform('gamma',1.0,2.0),\n",
        "    'lambda_sparse':hp.loguniform('lambda_sparse',np.log(0.00001),np.log(1.0)),\n",
        "    'optimizer_fn':torch.optim.Adam,\n",
        "    'optimizer_params':dict(lr=2e-2, weight_decay=1e-5),\n",
        "    'mask_type':'entmax',\n",
        "    'scheduler_params':dict(mode=\"min\", patience=5, min_lr=1e-5, factor=0.9,),\n",
        "    'scheduler_fn':torch.optim.lr_scheduler.ReduceLROnPlateau,\n",
        "    'verbose':10,\n",
        "    #'smoothing':hp.loguniform('smoothing',np.log(0.0001),np.log(0.1)),\n",
        "}"
      ],
      "execution_count": 223,
      "outputs": []
    },
    {
      "cell_type": "code",
      "metadata": {
        "id": "ZVi6s8eCqhnB"
      },
      "source": [
        "TabNet_params = {\n",
        "    \"gamma\": 1.6073252457780574,\n",
        "    \"lambda_sparse\": 3.046142378479607e-05,\n",
        "    \"n_d\": 16,\n",
        "    \"n_steps\": 2,\n",
        "    'optimizer_fn':torch.optim.Adam,\n",
        "    'optimizer_params':dict(lr=2e-2, weight_decay=1e-5),\n",
        "    'mask_type':'entmax',\n",
        "    'scheduler_params':dict(mode=\"min\", patience=5, min_lr=1e-5, factor=0.9,),\n",
        "    'scheduler_fn':torch.optim.lr_scheduler.ReduceLROnPlateau,\n",
        "    'verbose':10,\n",
        "}"
      ],
      "execution_count": 224,
      "outputs": []
    },
    {
      "cell_type": "code",
      "metadata": {
        "id": "s7x4GBktx2Dc"
      },
      "source": [
        "torch.autograd.detect_anomaly = False\n",
        "torch.autograd.profiler.profile = False\n",
        "torch.autograd.profiler.emit_nvtx = False\n",
        "torch.autograd.gradcheck = False\n",
        "torch.autograd.gradgradcheck = False"
      ],
      "execution_count": 225,
      "outputs": []
    },
    {
      "cell_type": "markdown",
      "metadata": {
        "id": "rhKmTgy0mDB_"
      },
      "source": [
        "**---------- Learning ----------**"
      ]
    },
    {
      "cell_type": "code",
      "metadata": {
        "id": "DNZ47Aq_RuFl"
      },
      "source": [
        "def learning(params):\n",
        "    result = []\n",
        "    scores = []\n",
        "    oof_preds = np.zeros(train.shape[0])\n",
        "    global model, results\n",
        "\n",
        "    model.reset_model(**params)\n",
        "\n",
        "    for i in range(len(params.keys())):\n",
        "        tmp = params[results[0, i]]\n",
        "        result.append(params[results[0, i]])\n",
        "\n",
        "    kf = KFold(n_splits=NFOLDS, shuffle=True, random_state=21)\n",
        "    #kf = StratifiedKFold(n_splits=NFOLDS, shuffle=True, random_state=21)\n",
        "    for tr_idx, va_idx in kf.split(train, target):\n",
        "        tr_x, va_x = train.iloc[tr_idx], train.iloc[va_idx]\n",
        "        tr_y, va_y = target.iloc[tr_idx], target.iloc[va_idx]\n",
        "\n",
        "        #model.fit(tr_x, tr_y)\n",
        "        model.fit(tr_x, tr_y, va_x, va_y)\n",
        "        va_t = model.predict(va_x)\n",
        "        oof_preds[va_idx] = va_t\n",
        "        #score = mean_squared_error(va_y, va_t, squared=False)\n",
        "        score = roc_auc_score(va_y, va_t)\n",
        "\n",
        "        #model.fit(tr_x, tr_y, va_x, va_y)\n",
        "        #score =min(model.model.evals_result_['valid_0']['rmse'])\n",
        "        \n",
        "        scores.append(score)\n",
        "\n",
        "    score2 = roc_auc_score(target, oof_preds)\n",
        "    result.append(statistics.mean(scores))\n",
        "    result.append(score2)\n",
        "    result.append(statistics.stdev(scores))\n",
        "    for score in scores:\n",
        "        result.append(score)\n",
        "\n",
        "    results = np.vstack([results, result])\n",
        "\n",
        "    return {'loss':-score2, 'status':STATUS_OK}"
      ],
      "execution_count": 226,
      "outputs": []
    },
    {
      "cell_type": "code",
      "metadata": {
        "id": "68WAUlUMeRWf"
      },
      "source": [
        "# Parameters\n",
        "NFOLDS = 2\n",
        "logger.info(f'NFOLDS : {NFOLDS}')\n",
        "MAX_EVALS = 2\n",
        "logger.info(f'MAX_EVALS : {MAX_EVALS}')"
      ],
      "execution_count": 227,
      "outputs": []
    },
    {
      "cell_type": "code",
      "metadata": {
        "id": "D1WHXPCdHFpi",
        "colab": {
          "base_uri": "https://localhost:8080/"
        },
        "outputId": "67cebbc0-816a-42ec-8289-67ddb34f58a6"
      },
      "source": [
        "#----- Timer Set -----#\n",
        "start_time = time.perf_counter()\n",
        "\n",
        "#----- Model -----#\n",
        "#model = Model_DummyRegressor()\n",
        "#params = params_DummyRegressor\n",
        "#model = Model_XGB()\n",
        "#params = XGB_params_space\n",
        "#model = Model_LightGBM()\n",
        "#params = LightBGM_params_space\n",
        "model = Model_LightGBMwithCats()\n",
        "params = LightBGMwithCats_params_space\n",
        "#model = Model_CatBoost()\n",
        "#params = CatBoost_params_space\n",
        "#model = Model_TabNet()\n",
        "#params = TabNet_params_space\n",
        "\n",
        "#----- CSV File -----#\n",
        "results = np.append(convDictKeyToNdarray(params), np.array([['mean','auc','stdev'] + [str(i) for i in range(NFOLDS)]]), axis=1)\n",
        "\n",
        "#----- Hyperparameters Search -----#\n",
        "trials=Trials()\n",
        "best_params = fmin(learning,params,algo=tpe.suggest,trials=trials,max_evals=MAX_EVALS)\n",
        "np.savetxt('results.csv', results, delimiter=',', fmt = \"%s\")\n",
        "\n",
        "#----- Timer Stop -----#\n",
        "execution_time = time.perf_counter() - start_time\n",
        "print(\"Learning time:{0}\".format(execution_time/60) + \"[min]\")\n",
        "\n",
        "#----- Log -----#\n",
        "logger.info(f'Model : {model.__class__.__name__}')\n",
        "logger.info(f'Learning time : {execution_time/60}[min]')"
      ],
      "execution_count": 228,
      "outputs": [
        {
          "output_type": "stream",
          "text": [
            "Training until validation scores don't improve for 150 rounds.\n",
            "[500]\ttraining's auc: 0.887893\tvalid_1's auc: 0.885411\n",
            "[1000]\ttraining's auc: 0.894403\tvalid_1's auc: 0.88844\n",
            "[1500]\ttraining's auc: 0.898673\tvalid_1's auc: 0.889673\n",
            "[2000]\ttraining's auc: 0.902101\tvalid_1's auc: 0.890196\n",
            "Early stopping, best iteration is:\n",
            "[2302]\ttraining's auc: 0.90387\tvalid_1's auc: 0.89045\n",
            "Training until validation scores don't improve for 150 rounds.\n",
            "[500]\ttraining's auc: 0.889042\tvalid_1's auc: 0.882954\n",
            "[1000]\ttraining's auc: 0.895597\tvalid_1's auc: 0.886262\n",
            "[1500]\ttraining's auc: 0.89971\tvalid_1's auc: 0.887369\n",
            "[2000]\ttraining's auc: 0.903007\tvalid_1's auc: 0.888034\n",
            "[2500]\ttraining's auc: 0.905916\tvalid_1's auc: 0.888525\n",
            "[3000]\ttraining's auc: 0.908531\tvalid_1's auc: 0.888778\n",
            "[3500]\ttraining's auc: 0.911004\tvalid_1's auc: 0.888986\n",
            "Early stopping, best iteration is:\n",
            "[3396]\ttraining's auc: 0.910485\tvalid_1's auc: 0.889094\n",
            "Training until validation scores don't improve for 150 rounds.\n",
            "[500]\ttraining's auc: 0.899195\tvalid_1's auc: 0.891354\n",
            "[1000]\ttraining's auc: 0.908567\tvalid_1's auc: 0.893296\n",
            "[1500]\ttraining's auc: 0.91523\tvalid_1's auc: 0.893785\n",
            "Early stopping, best iteration is:\n",
            "[1761]\ttraining's auc: 0.91807\tvalid_1's auc: 0.893867\n",
            "Training until validation scores don't improve for 150 rounds.\n",
            "[500]\ttraining's auc: 0.900645\tvalid_1's auc: 0.890061\n",
            "[1000]\ttraining's auc: 0.909759\tvalid_1's auc: 0.891932\n",
            "[1500]\ttraining's auc: 0.916426\tvalid_1's auc: 0.892441\n",
            "[2000]\ttraining's auc: 0.921762\tvalid_1's auc: 0.892509\n",
            "Early stopping, best iteration is:\n",
            "[1906]\ttraining's auc: 0.920727\tvalid_1's auc: 0.892524\n",
            "100%|██████████| 2/2 [08:11<00:00, 245.77s/trial, best loss: -0.8931812501731846]\n",
            "Learning time:8.192567735733336[min]\n"
          ],
          "name": "stdout"
        }
      ]
    },
    {
      "cell_type": "code",
      "metadata": {
        "id": "wl1mQxpVH97W",
        "colab": {
          "base_uri": "https://localhost:8080/"
        },
        "outputId": "9685c740-cafa-41c4-a661-89cb1c4e0f5b"
      },
      "source": [
        "oof_preds = np.zeros(train.shape[0])\n",
        "test_preds = np.zeros(test.shape[0])\n",
        "\n",
        "model.reset_model(**best_params)\n",
        "#model.reset_model(**LightBGMwithCats_params)\n",
        "\n",
        "#model = Model_LinearRegression()\n",
        "#model.reset_model(**params_LinearRegression)\n",
        "\n",
        "kf = KFold(n_splits=NFOLDS, shuffle=True, random_state=21)\n",
        "for tr_idx, va_idx in kf.split(train):\n",
        "    tr_x, va_x = train.iloc[tr_idx], train.iloc[va_idx]\n",
        "    tr_y, va_y = target.iloc[tr_idx], target.iloc[va_idx]\n",
        "\n",
        "    model.fit(tr_x, tr_y, va_x, va_y)\n",
        "    #model.fit(tr_x, tr_y)\n",
        "    oof_preds[va_idx] = model.predict(va_x)\n",
        "\n",
        "    test_preds += model.predict(test) / NFOLDS"
      ],
      "execution_count": 229,
      "outputs": [
        {
          "output_type": "stream",
          "text": [
            "Training until validation scores don't improve for 150 rounds.\n",
            "[500]\ttraining's auc: 0.899195\tvalid_1's auc: 0.891354\n",
            "[1000]\ttraining's auc: 0.908567\tvalid_1's auc: 0.893296\n",
            "[1500]\ttraining's auc: 0.91523\tvalid_1's auc: 0.893785\n",
            "Early stopping, best iteration is:\n",
            "[1761]\ttraining's auc: 0.91807\tvalid_1's auc: 0.893867\n",
            "Training until validation scores don't improve for 150 rounds.\n",
            "[500]\ttraining's auc: 0.900645\tvalid_1's auc: 0.890061\n",
            "[1000]\ttraining's auc: 0.909759\tvalid_1's auc: 0.891932\n",
            "[1500]\ttraining's auc: 0.916426\tvalid_1's auc: 0.892441\n",
            "[2000]\ttraining's auc: 0.921762\tvalid_1's auc: 0.892509\n",
            "Early stopping, best iteration is:\n",
            "[1906]\ttraining's auc: 0.920727\tvalid_1's auc: 0.892524\n"
          ],
          "name": "stdout"
        }
      ]
    },
    {
      "cell_type": "code",
      "metadata": {
        "id": "yw9x2cyQgR9p"
      },
      "source": [
        "logger.info(f'AUC : {roc_auc_score(target, oof_preds)}')"
      ],
      "execution_count": 230,
      "outputs": []
    },
    {
      "cell_type": "code",
      "metadata": {
        "id": "IILCom9NchqT"
      },
      "source": [
        "plot_results(model.__class__.__name__, target, oof_preds)"
      ],
      "execution_count": null,
      "outputs": []
    },
    {
      "cell_type": "code",
      "metadata": {
        "id": "6wgvwHl0iZ83"
      },
      "source": [
        "submission['target'] = test_preds\n",
        "submission.to_csv('submission.csv')"
      ],
      "execution_count": null,
      "outputs": []
    },
    {
      "cell_type": "code",
      "metadata": {
        "id": "gxpAe1gRypVn"
      },
      "source": [
        "LOG_PATH = '/content/drive/MyDrive/Kaggle/Tabular_Playground_Series_-_Mar_2021/Result/' + datetime.now(pytz.timezone('Asia/Tokyo')).strftime(\"%Y%m%d_%H:%M\") + '_' + model.__class__.__name__ + '_NFOLDS:' + str(NFOLDS)\n",
        "!mkdir $LOG_PATH\n",
        "!cp /content/log.log $LOG_PATH\n",
        "!cp /content/results.csv $LOG_PATH\n",
        "!cp /content/result.png $LOG_PATH\n",
        "!cp /content/submission.csv $LOG_PATH\n",
        "!cp /content/test_preds.csv $LOG_PATH\n",
        "!cp /content/oof_preds.csv $LOG_PATH\n",
        "LOG_PATH = LOG_PATH.replace('\\\\','')"
      ],
      "execution_count": null,
      "outputs": []
    },
    {
      "cell_type": "code",
      "metadata": {
        "id": "Ezzo7Begzvgi"
      },
      "source": [
        "with open(LOG_PATH+\"/best_params.json\", 'w') as f:\n",
        "    json.dump(best_params, f, indent=4)"
      ],
      "execution_count": null,
      "outputs": []
    },
    {
      "cell_type": "code",
      "metadata": {
        "id": "VH6kQo4wWpvs"
      },
      "source": [
        "#ensemble\n",
        "\n",
        "#model = Model_LightGBM()\n",
        "model = Model_LightGBMwithCats()\n",
        "#model = Model_TabNet()\n",
        "\n",
        "seeds_num = 30\n",
        "#seeds = [21]\n",
        "seeds = [i for i in range(seeds_num)]\n",
        "\n",
        "test_preds = np.zeros(test.shape[0])\n",
        "oof_preds = np.zeros((train.shape[0], seeds_num))\n",
        "result = []\n",
        "\n",
        "#----- Timer Set -----#\n",
        "start_time = time.perf_counter()\n",
        "\n",
        "for i in tqdm(range(len(seeds))):\n",
        "    seed = seeds[i]\n",
        "    #LightBGM_params['random_state'] = seed\n",
        "    #model.reset_model(**LightBGM_params)\n",
        "    LightBGMwithCats_params['random_state'] = seed\n",
        "    model.reset_model(**LightBGMwithCats_params)\n",
        "    #TabNet_params['seed'] = seed\n",
        "    #model.reset_model(**TabNet_params)\n",
        "\n",
        "    kf = KFold(n_splits=NFOLDS, shuffle=True, random_state=seed)\n",
        "    #for tr_idx, va_idx in kf.split(train):\n",
        "    for fold_, (tr_idx, va_idx) in enumerate(kf.split(train, target)):\n",
        "        print(\"fold : ---------------------------------------\", fold_)\n",
        "        tr_x, va_x = train.iloc[tr_idx], train.iloc[va_idx]\n",
        "        tr_y, va_y = target.iloc[tr_idx], target.iloc[va_idx]\n",
        "\n",
        "        model.fit(tr_x, tr_y, va_x, va_y)\n",
        "        oof_preds[va_idx,seed] = model.predict(va_x)\n",
        "        test_preds += model.predict(test) / (NFOLDS * seeds_num)\n",
        "\n",
        "    tmp_RMSE = mean_squared_error(target, oof_preds[:, seed], squared=False)\n",
        "    print('RMSE[' + str(seed) + '] : ' + str(tmp_RMSE))\n",
        "    logger.info(f'RMSE[{seed}] : {tmp_RMSE}')\n",
        "    result.append([seed,tmp_RMSE])\n",
        "\n",
        "#----- File Save -----#\n",
        "np.savetxt('test_preds.csv', test_preds, delimiter=',')\n",
        "np.savetxt('oof_preds.csv', oof_preds, delimiter=',')\n",
        "np.savetxt('results.csv', result, delimiter=',')\n",
        "\n",
        "#----- Timer Stop -----#\n",
        "execution_time = time.perf_counter() - start_time\n",
        "print(\"Learning time:{0}\".format(execution_time/60) + \"[min]\")\n",
        "\n",
        "#----- Log -----#\n",
        "logger.info(f'Learning time : {execution_time/60}[min]')"
      ],
      "execution_count": null,
      "outputs": []
    },
    {
      "cell_type": "markdown",
      "metadata": {
        "id": "iQtepYAKfK1c"
      },
      "source": [
        "**---------- Feature Search ----------**"
      ]
    },
    {
      "cell_type": "code",
      "metadata": {
        "id": "5li5nsXu57KF"
      },
      "source": [
        "select_features = [\n",
        "    \"cat0\", \"cat1\", \"cat2\", \"cat3\", \"cat5\", \"cat6\", \"cat7\", \n",
        "    \"cat8\", \"cat9\",\n",
        "    \"cont0\", \"cont1\", \"cont3\", \n",
        "    \"cont5\", \"cont6\", \"cont7\", \"cont8\", \"cont9\", \n",
        "    \"cont11\", \"cont13\"\n",
        "]"
      ],
      "execution_count": null,
      "outputs": []
    },
    {
      "cell_type": "code",
      "metadata": {
        "id": "xy6hCHORHEb_"
      },
      "source": [
        "features = [\n",
        "    \"cont10\", \"cont4\", \"cont12\", \"cont2\",\n",
        "    \"cont8/cont5\", \"cont0/cont8\", \"cont5/cont12\", \"cont8/cont2\", \"cont6/cont0\", \"cont8/cont0\"\n",
        "]"
      ],
      "execution_count": null,
      "outputs": []
    },
    {
      "cell_type": "code",
      "metadata": {
        "id": "rvDyHfvH6f2h"
      },
      "source": [
        "#----- Timer Set -----#\n",
        "start_time = time.perf_counter()\n",
        "\n",
        "model = Model_LightGBMwithCats()\n",
        "\n",
        "results = []\n",
        "\n",
        "#select_features = []\n",
        "\n",
        "for i in tqdm(range(len(features))):\n",
        "    oof_preds = np.zeros(train.shape[0])\n",
        "    tmp_oof_preds = np.zeros(train.shape[0])\n",
        "\n",
        "    min_RMSE = 100\n",
        "    min_feature = ''\n",
        "\n",
        "    for f in features:\n",
        "        print(\"feature : ---------------------------------------\", f)\n",
        "        select_features.append(f)\n",
        "        print(select_features)\n",
        "\n",
        "        tmp_train = train[select_features]\n",
        "\n",
        "        model.reset_model(**LightBGMwithCats_params)\n",
        "\n",
        "        kf = KFold(n_splits=NFOLDS, shuffle=True, random_state=21)\n",
        "    \n",
        "        for fold_, (tr_idx, va_idx) in enumerate(kf.split(tmp_train, target)):\n",
        "            print(\"fold : ---------------------------------------\", fold_)\n",
        "            tr_x, va_x = tmp_train.iloc[tr_idx], tmp_train.iloc[va_idx]\n",
        "            tr_y, va_y = target.iloc[tr_idx], target.iloc[va_idx]\n",
        "\n",
        "            model.fit(tr_x, tr_y, va_x, va_y)\n",
        "            oof_preds[va_idx]= model.predict(va_x)\n",
        "\n",
        "        tmp_RMSE = mean_squared_error(target, oof_preds, squared=False)\n",
        "        print('RMSE : ' + str(tmp_RMSE))\n",
        "        logger.info(f'RMSE : {tmp_RMSE}')\n",
        "        if min_RMSE > tmp_RMSE:\n",
        "            min_RMSE = tmp_RMSE\n",
        "            min_feature = f\n",
        "        select_features.remove(f)\n",
        "\n",
        "    #print('min_RMSE : ',min_feature ,min_RMSE)\n",
        "    #logger.info(f'RMSE : {min_feature, min_RMSE}')\n",
        "    results.append([min_feature, min_RMSE])\n",
        "    select_features.append(min_feature)\n",
        "    features.remove(min_feature)\n",
        "\n",
        "pd.DataFrame(results).to_csv('results.csv')\n",
        "\n",
        "#----- Timer Stop -----#\n",
        "execution_time = time.perf_counter() - start_time\n",
        "print(\"Learning time:{0}\".format(execution_time/60) + \"[min]\")\n",
        "\n",
        "#----- Log -----#\n",
        "logger.info(f'Learning time : {execution_time/60}[min]')"
      ],
      "execution_count": null,
      "outputs": []
    },
    {
      "cell_type": "code",
      "metadata": {
        "id": "54q-PrhvXNwo"
      },
      "source": [
        "results = np.array(results)\n",
        "\n",
        "fig = plt.figure(figsize=(20, 8))\n",
        "x_position = np.arange(len(results[:,0]))\n",
        "ax = fig.add_subplot(1, 1, 1)\n",
        "ax.bar(x_position, results[:,1], tick_label=results[:,0])\n",
        "#ax.title('RMSE over select_features')\n",
        "#ax.xlabel('Features')\n",
        "#ax.ylabel('RMSE')\n",
        "#plt.ylim(0.84, 0.86)\n",
        "#ax.savefig(\"results.png\")"
      ],
      "execution_count": null,
      "outputs": []
    },
    {
      "cell_type": "code",
      "metadata": {
        "id": "irnDvHrKbNI9"
      },
      "source": [
        "#LOG_PATH = '/content/drive/MyDrive/Kaggle/Tabular_Playground_Series_-_Feb_2021/Result/' + datetime.now(pytz.timezone('Asia/Tokyo')).strftime(\"%Y%m%d_%H:%M\") + '_' + model.__class__.__name__\n",
        "LOG_PATH = '/content/drive/MyDrive/Kaggle/Tabular_Playground_Series_-_Feb_2021/Result/' + datetime.now(pytz.timezone('Asia/Tokyo')).strftime(\"%Y%m%d_%H:%M\") + '_EDA'\n",
        "!mkdir $LOG_PATH\n",
        "!cp /content/log_v1.log $LOG_PATH\n",
        "!cp /content/results.csv $LOG_PATH\n",
        "!cp /content/results.png $LOG_PATH"
      ],
      "execution_count": null,
      "outputs": []
    },
    {
      "cell_type": "markdown",
      "metadata": {
        "id": "zvjbIulHfSaQ"
      },
      "source": [
        "**---------- Feature Search2 ----------**"
      ]
    },
    {
      "cell_type": "code",
      "metadata": {
        "id": "3YhPQPvb2S4s"
      },
      "source": [
        "train = pd.read_csv(input_path / 'train3.csv', index_col='id')\n",
        "display(train.head())"
      ],
      "execution_count": null,
      "outputs": []
    },
    {
      "cell_type": "code",
      "metadata": {
        "id": "44I7-vaO2S4t"
      },
      "source": [
        "test = pd.read_csv(input_path / 'test3.csv', index_col='id')\n",
        "display(test.head())"
      ],
      "execution_count": null,
      "outputs": []
    },
    {
      "cell_type": "code",
      "metadata": {
        "id": "whbintzL2jP_"
      },
      "source": [
        "target = pd.read_csv(input_path / 'target.csv', index_col='id')\n",
        "display(target.head())"
      ],
      "execution_count": null,
      "outputs": []
    },
    {
      "cell_type": "code",
      "metadata": {
        "id": "NxPLDjDB2Y52"
      },
      "source": [
        "print(train.shape)\n",
        "print(test.shape)\n",
        "print(target.shape)"
      ],
      "execution_count": null,
      "outputs": []
    },
    {
      "cell_type": "code",
      "metadata": {
        "id": "F07pC2s93OU3"
      },
      "source": [
        "features = [\n",
        "    \"cat0\", \"cat1\", \"cat2\", \"cat3\", \"cat5\", \"cat6\", \"cat7\", \"cat8\", \"cat9\",\n",
        "    \"cont0\", \"cont1\", \"cont2\", \"cont3\", \"cont4\",\n",
        "    \"cont5\", \"cont6\", \"cont7\", \"cont8\", \"cont9\", \"cont10\", \n",
        "    \"cont11\", \"cont12\", \"cont13\"\n",
        "]"
      ],
      "execution_count": null,
      "outputs": []
    },
    {
      "cell_type": "code",
      "metadata": {
        "id": "V0eq_heW9SLl"
      },
      "source": [
        "#Candidate\n",
        "print(train.columns.values.tolist())\n",
        "print(len(train.columns.values.tolist()))\n",
        "candidate = [c for c in train.columns.values.tolist() if c not in features]\n",
        "candidate = np.array(candidate)[0:100].tolist()\n",
        "#candidate = ['cat2_cont0_count', 'cat0_cont0_count']\n",
        "print(candidate)\n",
        "print(len(candidate))"
      ],
      "execution_count": null,
      "outputs": []
    },
    {
      "cell_type": "code",
      "metadata": {
        "id": "9f5YqKLL4OQK"
      },
      "source": [
        "#----- Timer Set -----#\n",
        "start_time = time.perf_counter()\n",
        "\n",
        "model = Model_LightGBMwithCats()\n",
        "oof_preds = np.zeros(train.shape[0])\n",
        "\n",
        "results = []\n",
        "\n",
        "tmp_train = train[features]\n",
        "model.reset_model(**LightBGMwithCats_params)\n",
        "kf = KFold(n_splits=NFOLDS, shuffle=True, random_state=21)\n",
        "for fold_, (tr_idx, va_idx) in enumerate(kf.split(tmp_train, target)):\n",
        "    print(\"fold : ---------------------------------------\", fold_)\n",
        "    tr_x, va_x = tmp_train.iloc[tr_idx], tmp_train.iloc[va_idx]\n",
        "    tr_y, va_y = target.iloc[tr_idx], target.iloc[va_idx]\n",
        "\n",
        "    model.fit(tr_x, tr_y, va_x, va_y)\n",
        "    oof_preds[va_idx]= model.predict(va_x)\n",
        "\n",
        "min_RMSE = mean_squared_error(target, oof_preds, squared=False)\n",
        "print('original_RMSE : ' + str(min_RMSE))\n",
        "logger.info(f'original_RMSE : {min_RMSE}')\n",
        "\n",
        "results.append(['original', min_RMSE])\n",
        "\n",
        "count = 0\n",
        "\n",
        "for i in tqdm(range(1)):\n",
        "    min_feature = ''\n",
        "\n",
        "    for f in candidate:\n",
        "        print(\"feature : ---------------------------------------\", f)\n",
        "        features.append(f)\n",
        "        print(features)\n",
        "\n",
        "        tmp_train = train[features]\n",
        "        oof_preds = np.zeros(train.shape[0])\n",
        "\n",
        "        model.reset_model(**LightBGMwithCats_params)\n",
        "\n",
        "        kf = KFold(n_splits=NFOLDS, shuffle=True, random_state=21)\n",
        "    \n",
        "        for fold_, (tr_idx, va_idx) in enumerate(kf.split(tmp_train, target)):\n",
        "            print(\"fold : ---------------------------------------\", fold_)\n",
        "            tr_x, va_x = tmp_train.iloc[tr_idx], tmp_train.iloc[va_idx]\n",
        "            tr_y, va_y = target.iloc[tr_idx], target.iloc[va_idx]\n",
        "\n",
        "            model.fit(tr_x, tr_y, va_x, va_y)\n",
        "            oof_preds[va_idx]= model.predict(va_x)\n",
        "\n",
        "        tmp_RMSE = mean_squared_error(target, oof_preds, squared=False)\n",
        "        print(f + '_RMSE : ' + str(tmp_RMSE))\n",
        "        logger.info(f'{f}_RMSE : {tmp_RMSE}')\n",
        "        if min_RMSE > tmp_RMSE:\n",
        "            min_RMSE = tmp_RMSE\n",
        "            min_feature = f\n",
        "            count += 1\n",
        "        features.remove(f)\n",
        "\n",
        "    #print('min_RMSE : ',min_feature ,min_RMSE)\n",
        "    #logger.info(f'RMSE : {min_feature, min_RMSE}')\n",
        "    if min_feature == '':\n",
        "        print('No more efficent features.')\n",
        "        break\n",
        "    else:\n",
        "        results.append([min_feature, min_RMSE])\n",
        "        features.append(min_feature)\n",
        "        candidate.remove(min_feature)\n",
        "\n",
        "pd.DataFrame(results).to_csv('results.csv')\n",
        "\n",
        "#----- Timer Stop -----#\n",
        "execution_time = time.perf_counter() - start_time\n",
        "print(\"Learning time:{0}\".format(execution_time/60) + \"[min]\")\n",
        "print(\"Count:{0}\".format(count))\n",
        "\n",
        "#----- Log -----#\n",
        "logger.info(f'Learning time : {execution_time/60}[min]')\n",
        "logger.info(f'Count : {count}')"
      ],
      "execution_count": null,
      "outputs": []
    },
    {
      "cell_type": "code",
      "metadata": {
        "id": "iDHP1hDJB_0M"
      },
      "source": [
        "#LOG_PATH = '/content/drive/MyDrive/Kaggle/Tabular_Playground_Series_-_Feb_2021/Result/' + datetime.now(pytz.timezone('Asia/Tokyo')).strftime(\"%Y%m%d_%H:%M\") + '_' + model.__class__.__name__\n",
        "LOG_PATH = '/content/drive/MyDrive/Kaggle/Tabular_Playground_Series_-_Feb_2021/Result/' + datetime.now(pytz.timezone('Asia/Tokyo')).strftime(\"%Y%m%d_%H:%M\") + '_EDA'\n",
        "!mkdir $LOG_PATH\n",
        "!cp /content/log_v1.log $LOG_PATH\n",
        "!cp /content/results.csv $LOG_PATH"
      ],
      "execution_count": null,
      "outputs": []
    },
    {
      "cell_type": "markdown",
      "metadata": {
        "id": "QOlVl5tbvolf"
      },
      "source": [
        "**---------- submission ----------**"
      ]
    },
    {
      "cell_type": "code",
      "metadata": {
        "id": "4ph_bW-Hvwhb"
      },
      "source": [
        "print(mean_squared_error(target, train['lightGBM_17'], squared=False))"
      ],
      "execution_count": null,
      "outputs": []
    },
    {
      "cell_type": "code",
      "metadata": {
        "id": "WcXKWTYyvWoY"
      },
      "source": [
        "submission['target'] = test['lightGBM_17']\n",
        "submission.to_csv('submission1.csv')"
      ],
      "execution_count": null,
      "outputs": []
    },
    {
      "cell_type": "code",
      "metadata": {
        "id": "VNuebijGw45i"
      },
      "source": [
        "submission"
      ],
      "execution_count": null,
      "outputs": []
    },
    {
      "cell_type": "code",
      "metadata": {
        "id": "nEcXBKfwyHZw"
      },
      "source": [
        "tmp_train = pd.DataFrame(data=None, index=train.index, columns=None, dtype=None, copy=False)\n",
        "tmp_test = pd.DataFrame(data=None, index=test.index, columns=None, dtype=None, copy=False)"
      ],
      "execution_count": null,
      "outputs": []
    },
    {
      "cell_type": "code",
      "metadata": {
        "id": "elqmCRIAyID-"
      },
      "source": [
        "mean_train = pd.DataFrame(data=None, index=train.index, columns=None, dtype=None, copy=False)\n",
        "mean_test = pd.DataFrame(data=None, index=test.index, columns=None, dtype=None, copy=False)"
      ],
      "execution_count": null,
      "outputs": []
    },
    {
      "cell_type": "code",
      "metadata": {
        "id": "7nHoIbroxIo3"
      },
      "source": [
        "res = []\n",
        "for col in results.columns:\n",
        "    tmp_train[col] = train[col]\n",
        "    mean_train[col] = tmp_train.mean(axis=1)\n",
        "    tmp_test[col] = test[col]\n",
        "    mean_test[col] = tmp_test.mean(axis=1)\n",
        "    RMSE = mean_squared_error(target, mean_train[col], squared=False)\n",
        "    res.append([col,str(RMSE)])"
      ],
      "execution_count": null,
      "outputs": []
    },
    {
      "cell_type": "code",
      "metadata": {
        "id": "nQqTScOc05_T"
      },
      "source": [
        "res"
      ],
      "execution_count": null,
      "outputs": []
    },
    {
      "cell_type": "code",
      "metadata": {
        "id": "v4t2v6BM1rnu"
      },
      "source": [
        "pd.DataFrame(res).to_csv('res.csv')"
      ],
      "execution_count": null,
      "outputs": []
    },
    {
      "cell_type": "code",
      "metadata": {
        "id": "_g1YeVxn2543"
      },
      "source": [
        "submission['target'] = mean_test['lightGBM_32']\n",
        "submission.to_csv('submission2.csv')"
      ],
      "execution_count": null,
      "outputs": []
    },
    {
      "cell_type": "code",
      "metadata": {
        "id": "zeHK2tuo27T3"
      },
      "source": [
        "submission"
      ],
      "execution_count": null,
      "outputs": []
    }
  ]
}